{
 "cells": [
  {
   "cell_type": "markdown",
   "metadata": {},
   "source": [
    "<h3 style='Background:purple; border:0; color:white'><center>Neural Network Part 2</center></h3>"
   ]
  },
  {
   "cell_type": "markdown",
   "metadata": {},
   "source": [
    "<img src=\"https://img.jakpost.net/c/2018/03/08/2018_03_08_41880_1520479714._large.jpg\" align=\"center\"/>"
   ]
  },
  {
   "cell_type": "markdown",
   "metadata": {},
   "source": [
    "<a id=\"top\"></a>\n",
    "\n",
    "<div class=\"list-group\" id=\"list-tab\" role=\"tablist\">\n",
    "<h3 class=\"list-group-item list-group-item-action active\" data-toggle=\"list\" style='color:white; background:crimson; border:0' role=\"tab\" aria-controls=\"home\"><center>Navigation</center></h3>\n",
    "\n",
    "* [**Libraries**](#10)\n",
    "* [**Scaling**](#20)\n",
    "* [**ANN CLASS**](#30)\n",
    "* [**Testing Neural Network**](#40)\n",
    "* [**Training**](#50)\n",
    "  * [**Gradient descent**](#51)\n",
    "  * [**Back Propagation**](#52)\n",
    "  * [**Numerical Gradient Checking**](#53)"
   ]
  }
 ],
 "metadata": {
  "kernelspec": {
   "display_name": "Python 3.9.13 64-bit (microsoft store)",
   "language": "python",
   "name": "python3"
  },
  "language_info": {
   "codemirror_mode": {
    "name": "ipython",
    "version": 3
   },
   "file_extension": ".py",
   "mimetype": "text/x-python",
   "name": "python",
   "nbconvert_exporter": "python",
   "pygments_lexer": "ipython3",
   "version": "3.9.13"
  },
  "orig_nbformat": 4,
  "vscode": {
   "interpreter": {
    "hash": "a9e9005fecb0c36c277496b0a74fc0c97c006641a9a6ffa64ec471fcb79e1bda"
   }
  }
 },
 "nbformat": 4,
 "nbformat_minor": 2
}
