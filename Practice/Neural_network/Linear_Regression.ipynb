{
 "cells": [
  {
   "cell_type": "markdown",
   "metadata": {},
   "source": [
    "<h3 style='Background:purple; border:0; color:white'><center>Linear Regression</center></h3>"
   ]
  },
  {
   "cell_type": "markdown",
   "metadata": {},
   "source": [
    "<img src=\"https://img.jakpost.net/c/2018/03/08/2018_03_08_41880_1520479714._large.jpg\" align=\"center\"/>"
   ]
  },
  {
   "cell_type": "markdown",
   "metadata": {},
   "source": [
    "<a id=\"top\"></a>\n",
    "\n",
    "<div class=\"list-group\" id=\"list-tab\" role=\"tablist\">\n",
    "<h3 class=\"list-group-item list-group-item-action active\" data-toggle=\"list\" style='color:white; background:crimson; border:0' role=\"tab\" aria-controls=\"home\"><center>Navigation</center></h3>\n",
    "\n",
    "* [**Libraries**](#10)\n",
    "* [**best fit slope**](#20)\n",
    "* [**Y intercept**](#30)\n",
    "* [**Testing Regression**](#40)\n",
    "* [**Training**](#50)\n"
   ]
  },
  {
   "cell_type": "markdown",
   "metadata": {},
   "source": [
    "<h3><center>Linear Regression</center></h3>\n",
    "<ui>\n",
    "<li>It's the equation of a line, Y = mx + b</li>\n",
    "<li>m = slope, y = Y intercept</li>\n",
    "<li>For Regression, we've to calculate the slope and the Y intercept</li>\n",
    "<li>Then we calculate the equation of a line</li>\n",
    "<li>Regression is best used to predict simple scenarios to understand the relationship between 2 variables a changeable and unchangeable</li>\n",
    "<li>Examples of linear Regression are: Drug usage and blood pressure, measure the effect of fertilizer and water on crop yields </li>\n",
    "</ui>"
   ]
  },
  {
   "cell_type": "markdown",
   "metadata": {},
   "source": [
    "---"
   ]
  },
  {
   "cell_type": "markdown",
   "metadata": {},
   "source": [
    "### Y = mx + b"
   ]
  },
  {
   "cell_type": "markdown",
   "metadata": {},
   "source": [
    "### Slope = $( ($ ($(mean of x) \\times $(mean of y)) - (mean of XY)$)   \\div   $($(mean of X)^2$) - (mean of $X^2$) )"
   ]
  },
  {
   "cell_type": "markdown",
   "metadata": {},
   "source": [
    "<a id=10> </a>\n",
    "<h4 style='color:white; background:crimson; border:0'><center>Libraries</center></h4>"
   ]
  },
  {
   "cell_type": "code",
   "execution_count": 1,
   "metadata": {},
   "outputs": [],
   "source": [
    "import numpy as np\n",
    "from statistics import mean, median\n",
    "import matplotlib.pyplot as plt\n",
    "from matplotlib import style"
   ]
  },
  {
   "cell_type": "code",
   "execution_count": 2,
   "metadata": {},
   "outputs": [],
   "source": [
    "x = np.array([1,2,3,4,5,6], dtype =np.float64)\n",
    "y = np.array([5,4,6,5,6,7], dtype =np.float64)"
   ]
  },
  {
   "cell_type": "code",
   "execution_count": 3,
   "metadata": {},
   "outputs": [
    {
     "data": {
      "image/png": "[encoded data removed]",
      "text/plain": [
       "<Figure size 432x288 with 1 Axes>"
      ]
     },
     "metadata": {
      "needs_background": "light"
     },
     "output_type": "display_data"
    }
   ],
   "source": [
    "plt.scatter(x,y,color='r')\n",
    "plt.xlabel('X')\n",
    "plt.ylabel('Y')\n",
    "plt.show()"
   ]
  },
  {
   "cell_type": "markdown",
   "metadata": {},
   "source": [
    "<a id=20> </a>\n",
    "<h4 style='color:white; background:crimson; border:0'><center>Best fit slope</center></h4>"
   ]
  },
  {
   "cell_type": "code",
   "execution_count": 4,
   "metadata": {},
   "outputs": [],
   "source": [
    "def best_fit_slope(x,y):\n",
    "    #line slope (M)\n",
    "    m=( ((mean(x) * mean(y)) - (mean(x*y))) / \n",
    "        ( (np.square(mean(x)) - mean(np.square(x))) ) )\n",
    "    return m"
   ]
  },
  {
   "cell_type": "code",
   "execution_count": 5,
   "metadata": {},
   "outputs": [
    {
     "data": {
      "text/plain": [
       "0.42857142857142866"
      ]
     },
     "execution_count": 5,
     "metadata": {},
     "output_type": "execute_result"
    }
   ],
   "source": [
    "m = best_fit_slope(x,y)\n",
    "m"
   ]
  },
  {
   "cell_type": "markdown",
   "metadata": {},
   "source": [
    "<a id=30> </a>\n",
    "<h4 style='color:white; background:crimson; border:0'><center>Y Intercept</center></h4>"
   ]
  },
  {
   "cell_type": "code",
   "execution_count": 6,
   "metadata": {},
   "outputs": [],
   "source": [
    "def intercept(x,y):\n",
    "    #Y intercept\n",
    "    b = (mean(y) - (best_fit_slope(x,y)*mean(x)))\n",
    "    return b"
   ]
  },
  {
   "cell_type": "code",
   "execution_count": 7,
   "metadata": {},
   "outputs": [
    {
     "data": {
      "text/plain": [
       "4.0"
      ]
     },
     "execution_count": 7,
     "metadata": {},
     "output_type": "execute_result"
    }
   ],
   "source": [
    "b = intercept(x,y)\n",
    "b"
   ]
  },
  {
   "cell_type": "markdown",
   "metadata": {},
   "source": [
    "<a id=40> </a>\n",
    "<h4 style='color:white; background:crimson; border:0'><center>Testing Regression</center></h4>"
   ]
  },
  {
   "cell_type": "markdown",
   "metadata": {},
   "source": [
    "sample of a regression lime"
   ]
  },
  {
   "cell_type": "code",
   "execution_count": 8,
   "metadata": {},
   "outputs": [],
   "source": [
    "r = [ (best_fit_slope(x,y)*x) + b for xs in x]"
   ]
  },
  {
   "cell_type": "code",
   "execution_count": 9,
   "metadata": {},
   "outputs": [
    {
     "data": {
      "text/plain": [
       "[array([4.42857143, 4.85714286, 5.28571429, 5.71428571, 6.14285714,\n",
       "        6.57142857]),\n",
       " array([4.42857143, 4.85714286, 5.28571429, 5.71428571, 6.14285714,\n",
       "        6.57142857]),\n",
       " array([4.42857143, 4.85714286, 5.28571429, 5.71428571, 6.14285714,\n",
       "        6.57142857]),\n",
       " array([4.42857143, 4.85714286, 5.28571429, 5.71428571, 6.14285714,\n",
       "        6.57142857]),\n",
       " array([4.42857143, 4.85714286, 5.28571429, 5.71428571, 6.14285714,\n",
       "        6.57142857]),\n",
       " array([4.42857143, 4.85714286, 5.28571429, 5.71428571, 6.14285714,\n",
       "        6.57142857])]"
      ]
     },
     "execution_count": 9,
     "metadata": {},
     "output_type": "execute_result"
    }
   ],
   "source": [
    "r"
   ]
  },
  {
   "cell_type": "markdown",
   "metadata": {},
   "source": [
    "---"
   ]
  },
  {
   "cell_type": "code",
   "execution_count": 10,
   "metadata": {},
   "outputs": [
    {
     "data": {
      "text/plain": [
       "list"
      ]
     },
     "execution_count": 10,
     "metadata": {},
     "output_type": "execute_result"
    }
   ],
   "source": [
    "type(r)"
   ]
  },
  {
   "cell_type": "markdown",
   "metadata": {},
   "source": [
    "Regression Line list"
   ]
  },
  {
   "cell_type": "code",
   "execution_count": 11,
   "metadata": {},
   "outputs": [],
   "source": [
    "def Regression_line(x, y):\n",
    "    #y=mx+b\n",
    "    for xs in x:\n",
    "        Regressionline = np.array([])\n",
    "        Regressionline = np.append(Regressionline,((best_fit_slope(x,y)*x) + intercept(x,y)))\n",
    "        return Regressionline"
   ]
  },
  {
   "cell_type": "code",
   "execution_count": 12,
   "metadata": {},
   "outputs": [
    {
     "data": {
      "text/plain": [
       "array([4.42857143, 4.85714286, 5.28571429, 5.71428571, 6.14285714,\n",
       "       6.57142857])"
      ]
     },
     "execution_count": 12,
     "metadata": {},
     "output_type": "execute_result"
    }
   ],
   "source": [
    "rl=Regression_line(x,y)\n",
    "rl"
   ]
  },
  {
   "cell_type": "markdown",
   "metadata": {},
   "source": [
    "---"
   ]
  },
  {
   "cell_type": "markdown",
   "metadata": {},
   "source": [
    "make sure all the data is the same type"
   ]
  },
  {
   "cell_type": "code",
   "execution_count": 13,
   "metadata": {},
   "outputs": [
    {
     "data": {
      "text/plain": [
       "(numpy.ndarray, numpy.ndarray, numpy.ndarray)"
      ]
     },
     "execution_count": 13,
     "metadata": {},
     "output_type": "execute_result"
    }
   ],
   "source": [
    "type(rl), type(x), type(y)"
   ]
  },
  {
   "cell_type": "code",
   "execution_count": 14,
   "metadata": {},
   "outputs": [
    {
     "data": {
      "image/png": "[encoded data removed]",
      "text/plain": [
       "<Figure size 432x288 with 1 Axes>"
      ]
     },
     "metadata": {},
     "output_type": "display_data"
    }
   ],
   "source": [
    "style.use('fivethirtyeight')\n",
    "plt.scatter(x,y)\n",
    "plt.plot(x, Regression_line(x,y), color='r')\n",
    "plt.show()"
   ]
  },
  {
   "cell_type": "markdown",
   "metadata": {},
   "source": [
    "Make prediction"
   ]
  },
  {
   "cell_type": "code",
   "execution_count": 15,
   "metadata": {},
   "outputs": [
    {
     "data": {
      "image/png": "[encoded data removed]",
      "text/plain": [
       "<Figure size 432x288 with 1 Axes>"
      ]
     },
     "metadata": {},
     "output_type": "display_data"
    }
   ],
   "source": [
    "predicted_x=7.1\n",
    "predicted_y = ((best_fit_slope(x,y)*predicted_x)+b)\n",
    "\n",
    "plt.scatter(x,y)\n",
    "plt.plot(x, Regression_line(x,y), color='r')\n",
    "plt.scatter(predicted_x,predicted_y, color='purple')\n",
    "plt.show()"
   ]
  },
  {
   "cell_type": "markdown",
   "metadata": {},
   "source": [
    "<a id=10> </a>\n",
    "<h4 style='color:white; background:crimson; border:0'><center>Training</center></h4>"
   ]
  },
  {
   "cell_type": "markdown",
   "metadata": {},
   "source": [
    "<h4>Mean squared Error</center></h4> \n",
    "<ul>\n",
    "<li>The error is the distance between the point and the distance line</li>\n",
    "<li>Then we square the error to deal with only positive value, and to eliminate outlaw point</li>\n",
    "<li>with the squared error of one value not we need to do the same for all the all other values sum it and divide them by the length of the errors we've</li>\n",
    "<li>Now we've the mean of squared error values</li>\n",
    "</ul>"
   ]
  },
  {
   "cell_type": "markdown",
   "metadata": {},
   "source": [
    "---"
   ]
  },
  {
   "cell_type": "markdown",
   "metadata": {},
   "source": [
    "<h4>R squared error</h4>"
   ]
  },
  {
   "cell_type": "markdown",
   "metadata": {},
   "source": [
    "$r^2$ = 1 - ($\\frac {SE*Best fit} {SE*mean(y)}$)"
   ]
  },
  {
   "cell_type": "code",
   "execution_count": 16,
   "metadata": {},
   "outputs": [],
   "source": [
    "def squared_error(y_orig, y_line):\n",
    "    return sum(np.square(y_line-y_orig))"
   ]
  },
  {
   "cell_type": "code",
   "execution_count": 17,
   "metadata": {},
   "outputs": [],
   "source": [
    "def coefficientOfDetermination(y_orig,y_line):\n",
    "    y_mean_line = [mean(y_orig) for y in y_orig]\n",
    "    squared_error_reg = squared_error(y_orig,y_line)\n",
    "    squared_error_ymean = squared_error(y_orig,y_mean_line)\n",
    "    return 1 - (squared_error_reg / squared_error_ymean)"
   ]
  },
  {
   "cell_type": "code",
   "execution_count": 18,
   "metadata": {},
   "outputs": [
    {
     "name": "stdout",
     "output_type": "stream",
     "text": [
      "0.5844155844155845\n"
     ]
    }
   ],
   "source": [
    "r_squared = coefficientOfDetermination(y,rl)\n",
    "print(r_squared)"
   ]
  }
 ],
 "metadata": {
  "kernelspec": {
   "display_name": "Python 3.9.13 64-bit (microsoft store)",
   "language": "python",
   "name": "python3"
  },
  "language_info": {
   "codemirror_mode": {
    "name": "ipython",
    "version": 3
   },
   "file_extension": ".py",
   "mimetype": "text/x-python",
   "name": "python",
   "nbconvert_exporter": "python",
   "pygments_lexer": "ipython3",
   "version": "3.9.13"
  },
  "orig_nbformat": 4,
  "vscode": {
   "interpreter": {
    "hash": "a9e9005fecb0c36c277496b0a74fc0c97c006641a9a6ffa64ec471fcb79e1bda"
   }
  }
 },
 "nbformat": 4,
 "nbformat_minor": 2
}
