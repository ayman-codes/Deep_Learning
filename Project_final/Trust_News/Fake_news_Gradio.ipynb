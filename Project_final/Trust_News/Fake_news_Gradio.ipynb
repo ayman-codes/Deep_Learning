{
  "cells": [
    {
      "cell_type": "markdown",
      "metadata": {
        "id": "fclTtaWFhUwO"
      },
      "source": [
        "<a id=\"1\"></a>\n",
        "<b><h2 style='border:0; color:white; background:purple'><center>Anti-Rumor</center><h3></b>"
      ]
    },
    {
      "cell_type": "markdown",
      "metadata": {
        "id": "FEUI0QoahUwT"
      },
      "source": [
        "![](https://www.motherjones.com/wp-content/uploads/fakenews_0.jpg?w=2400&h=1350&crop=1)"
      ]
    },
    {
      "attachments": {},
      "cell_type": "markdown",
      "metadata": {
        "id": "wMII8qDPhUwU"
      },
      "source": [
        "<a id=\"top\"></a>\n",
        "\n",
        "<div class=\"list-group\" id=\"list-tab\" role=\"tablist\">\n",
        "<h3 class=\"list-group-item list-group-item-action active\" data-toggle=\"list\" style='color:white; background:crimson; border:0' role=\"tab\" aria-controls=\"home\"><center>Navigation</center></h3>\n",
        "\n",
        "* [**Ensemble**](#10)\n",
        "  * [**Dataset**](#11)\n",
        "  * [**Visualization and Analysis**](#12)\n",
        "  * [**Training and Model fitting**](#13)\n",
        "  * [**Logistic Regression**](#14)\n",
        "  * [**Decision Tree**](#15)\n",
        "  * [**Gradient Boosting**](#16)\n",
        "  * [**Random Forest**](#17)"
      ]
    },
    {
      "cell_type": "markdown",
      "metadata": {
        "id": "DIn-zjVuhUwV"
      },
      "source": [
        "<a id=\"10\"></a>\n",
        "<h3 style='background:purple; border:0; color:white;'><center>Ensamble</center></h3>\n",
        "<p>Ensemble Combines multiple machine learning models onto one predictive model to improve predictive performance.<br> Instead of learning one complex models, it learn several simple models and combine output to improve final decision <br>\n",
        "\n",
        "<b>There's 2 groups of Ensemble methods</b>\n",
        "<ul>\n",
        "<li>Sequential Ensemble method</li>\n",
        "<li>Parallel Ensemble method</li>\n",
        "</ul>"
      ]
    },
    {
      "cell_type": "markdown",
      "metadata": {
        "id": "SgLpUMnohUwV"
      },
      "source": [
        "---"
      ]
    },
    {
      "cell_type": "markdown",
      "metadata": {
        "id": "hQQE7XrYhUwW"
      },
      "source": [
        "<center>Averaging</center>\n",
        "<p>Is when all models contribute equally hence <b>>P=P1+P2/2</b>\n",
        "<br>\n",
        "Equal weights are assigned to different models despite some models performing better\n",
        "</p>"
      ]
    },
    {
      "cell_type": "markdown",
      "metadata": {
        "id": "8zAFd4_ChUwW"
      },
      "source": [
        "---"
      ]
    },
    {
      "cell_type": "markdown",
      "metadata": {
        "id": "xORhcLaKhUwX"
      },
      "source": [
        "<center>Weighted Average</center>\n",
        "<p>\n",
        "The contribution of models is based on their weights\n",
        "<br>\n",
        "<b>W1+W2+W3=1</b>\n",
        "</p>"
      ]
    },
    {
      "cell_type": "markdown",
      "metadata": {
        "id": "THtm_EH5hUwX"
      },
      "source": [
        "---"
      ]
    },
    {
      "cell_type": "markdown",
      "metadata": {
        "id": "NG-CIz_MhUwY"
      },
      "source": [
        "<center>Begging</center>\n",
        "<p>Combine result of different models into 1 thus reducing the variance of an estimate by taking the mean\n",
        "of multiple estimates</p>\n",
        "<br>\n",
        "<b>There's 3 steps to perform begging</b>\n",
        "<ul>\n",
        "<li>Create randomly sampled datasets of the original training data A.K.A Bootstrapping</li>\n",
        "<li>Build and fit several different classifiers to each of these diverse copies</li>\n",
        "<li>Take the average of all the predictions to make a final overall predictions</li>\n",
        "</ul>"
      ]
    },
    {
      "cell_type": "markdown",
      "metadata": {
        "id": "gzfxJseMhUwZ"
      },
      "source": [
        "---"
      ]
    },
    {
      "cell_type": "markdown",
      "metadata": {
        "id": "bjBxmBO3hUwZ"
      },
      "source": [
        "<center>Gradient boosting method</center>\n",
        "<p>Trains several models ion a very gradual, additive, and sequential manner\n",
        "<br>\n",
        "Minimizes the loss function of a model by adding weak learners using gradient procedure\n",
        "</p>\n",
        "<br>\n",
        "<b>There's 3 steps to Gradient boosting</b>\n",
        "<ul>\n",
        "<li>A loss function to be optimized</li>\n",
        "<li>Weak learner to make predictions</li>\n",
        "<li>Additive model to add weak learners to minimize the loss function</li>\n",
        "</ul>"
      ]
    },
    {
      "cell_type": "markdown",
      "metadata": {
        "id": "KdibYOCOhUwZ"
      },
      "source": [
        "<a id=11></a>\n",
        "<h3>Importing Libraries</h3>"
      ]
    },
    {
      "cell_type": "code",
      "execution_count": 4,
      "metadata": {
        "id": "KHlTxMANhUwa"
      },
      "outputs": [],
      "source": [
        "import pandas as pd\n",
        "import numpy as np\n",
        "import seaborn as sns\n",
        "from sklearn.model_selection import train_test_split\n",
        "import matplotlib.pyplot as pl\n",
        "from sklearn.metrics import mean_squared_error, accuracy_score, mean_squared_log_error, classification_report\n",
        "import re \n",
        "import string\n",
        "import matplotlib.pyplot as plt\n",
        "from scipy.stats import norm\n",
        "from sklearn.preprocessing import StandardScaler\n",
        "from scipy import stats\n",
        "import warnings\n",
        "warnings.filterwarnings('ignore')\n",
        "%matplotlib inline"
      ]
    },
    {
      "cell_type": "code",
      "execution_count": 5,
      "metadata": {
        "id": "dBaxzQQ9hUwb"
      },
      "outputs": [],
      "source": [
        "fake = pd.read_csv('databases/Fake.csv')"
      ]
    },
    {
      "cell_type": "code",
      "execution_count": 6,
      "metadata": {
        "id": "MVIAElbAhUwb"
      },
      "outputs": [],
      "source": [
        "true = pd.read_csv('databases/True.csv')"
      ]
    },
    {
      "cell_type": "code",
      "execution_count": 7,
      "metadata": {
        "colab": {
          "base_uri": "https://localhost:8080/",
          "height": 206
        },
        "id": "DPRDAchLhUwb",
        "outputId": "088cabb3-9306-49ce-9cd9-a5f2a2623fb5"
      },
      "outputs": [
        {
          "data": {
            "text/html": [
              "<div>\n",
              "<style scoped>\n",
              "    .dataframe tbody tr th:only-of-type {\n",
              "        vertical-align: middle;\n",
              "    }\n",
              "\n",
              "    .dataframe tbody tr th {\n",
              "        vertical-align: top;\n",
              "    }\n",
              "\n",
              "    .dataframe thead th {\n",
              "        text-align: right;\n",
              "    }\n",
              "</style>\n",
              "<table border=\"1\" class=\"dataframe\">\n",
              "  <thead>\n",
              "    <tr style=\"text-align: right;\">\n",
              "      <th></th>\n",
              "      <th>title</th>\n",
              "      <th>text</th>\n",
              "      <th>subject</th>\n",
              "      <th>date</th>\n",
              "    </tr>\n",
              "  </thead>\n",
              "  <tbody>\n",
              "    <tr>\n",
              "      <th>0</th>\n",
              "      <td>Donald Trump Sends Out Embarrassing New Year’...</td>\n",
              "      <td>Donald Trump just couldn t wish all Americans ...</td>\n",
              "      <td>News</td>\n",
              "      <td>December 31, 2017</td>\n",
              "    </tr>\n",
              "    <tr>\n",
              "      <th>1</th>\n",
              "      <td>Drunk Bragging Trump Staffer Started Russian ...</td>\n",
              "      <td>House Intelligence Committee Chairman Devin Nu...</td>\n",
              "      <td>News</td>\n",
              "      <td>December 31, 2017</td>\n",
              "    </tr>\n",
              "    <tr>\n",
              "      <th>2</th>\n",
              "      <td>Sheriff David Clarke Becomes An Internet Joke...</td>\n",
              "      <td>On Friday, it was revealed that former Milwauk...</td>\n",
              "      <td>News</td>\n",
              "      <td>December 30, 2017</td>\n",
              "    </tr>\n",
              "    <tr>\n",
              "      <th>3</th>\n",
              "      <td>Trump Is So Obsessed He Even Has Obama’s Name...</td>\n",
              "      <td>On Christmas day, Donald Trump announced that ...</td>\n",
              "      <td>News</td>\n",
              "      <td>December 29, 2017</td>\n",
              "    </tr>\n",
              "    <tr>\n",
              "      <th>4</th>\n",
              "      <td>Pope Francis Just Called Out Donald Trump Dur...</td>\n",
              "      <td>Pope Francis used his annual Christmas Day mes...</td>\n",
              "      <td>News</td>\n",
              "      <td>December 25, 2017</td>\n",
              "    </tr>\n",
              "  </tbody>\n",
              "</table>\n",
              "</div>"
            ],
            "text/plain": [
              "                                               title  \\\n",
              "0   Donald Trump Sends Out Embarrassing New Year’...   \n",
              "1   Drunk Bragging Trump Staffer Started Russian ...   \n",
              "2   Sheriff David Clarke Becomes An Internet Joke...   \n",
              "3   Trump Is So Obsessed He Even Has Obama’s Name...   \n",
              "4   Pope Francis Just Called Out Donald Trump Dur...   \n",
              "\n",
              "                                                text subject  \\\n",
              "0  Donald Trump just couldn t wish all Americans ...    News   \n",
              "1  House Intelligence Committee Chairman Devin Nu...    News   \n",
              "2  On Friday, it was revealed that former Milwauk...    News   \n",
              "3  On Christmas day, Donald Trump announced that ...    News   \n",
              "4  Pope Francis used his annual Christmas Day mes...    News   \n",
              "\n",
              "                date  \n",
              "0  December 31, 2017  \n",
              "1  December 31, 2017  \n",
              "2  December 30, 2017  \n",
              "3  December 29, 2017  \n",
              "4  December 25, 2017  "
            ]
          },
          "execution_count": 7,
          "metadata": {},
          "output_type": "execute_result"
        }
      ],
      "source": [
        "fake.head()"
      ]
    },
    {
      "cell_type": "code",
      "execution_count": 8,
      "metadata": {
        "colab": {
          "base_uri": "https://localhost:8080/",
          "height": 206
        },
        "id": "dRvcw_ZmhUwc",
        "outputId": "dba71b36-6090-438b-927c-fd3534162d4a"
      },
      "outputs": [
        {
          "data": {
            "text/html": [
              "<div>\n",
              "<style scoped>\n",
              "    .dataframe tbody tr th:only-of-type {\n",
              "        vertical-align: middle;\n",
              "    }\n",
              "\n",
              "    .dataframe tbody tr th {\n",
              "        vertical-align: top;\n",
              "    }\n",
              "\n",
              "    .dataframe thead th {\n",
              "        text-align: right;\n",
              "    }\n",
              "</style>\n",
              "<table border=\"1\" class=\"dataframe\">\n",
              "  <thead>\n",
              "    <tr style=\"text-align: right;\">\n",
              "      <th></th>\n",
              "      <th>title</th>\n",
              "      <th>text</th>\n",
              "      <th>subject</th>\n",
              "      <th>date</th>\n",
              "    </tr>\n",
              "  </thead>\n",
              "  <tbody>\n",
              "    <tr>\n",
              "      <th>0</th>\n",
              "      <td>As U.S. budget fight looms, Republicans flip t...</td>\n",
              "      <td>WASHINGTON (Reuters) - The head of a conservat...</td>\n",
              "      <td>politicsNews</td>\n",
              "      <td>December 31, 2017</td>\n",
              "    </tr>\n",
              "    <tr>\n",
              "      <th>1</th>\n",
              "      <td>U.S. military to accept transgender recruits o...</td>\n",
              "      <td>WASHINGTON (Reuters) - Transgender people will...</td>\n",
              "      <td>politicsNews</td>\n",
              "      <td>December 29, 2017</td>\n",
              "    </tr>\n",
              "    <tr>\n",
              "      <th>2</th>\n",
              "      <td>Senior U.S. Republican senator: 'Let Mr. Muell...</td>\n",
              "      <td>WASHINGTON (Reuters) - The special counsel inv...</td>\n",
              "      <td>politicsNews</td>\n",
              "      <td>December 31, 2017</td>\n",
              "    </tr>\n",
              "    <tr>\n",
              "      <th>3</th>\n",
              "      <td>FBI Russia probe helped by Australian diplomat...</td>\n",
              "      <td>WASHINGTON (Reuters) - Trump campaign adviser ...</td>\n",
              "      <td>politicsNews</td>\n",
              "      <td>December 30, 2017</td>\n",
              "    </tr>\n",
              "    <tr>\n",
              "      <th>4</th>\n",
              "      <td>Trump wants Postal Service to charge 'much mor...</td>\n",
              "      <td>SEATTLE/WASHINGTON (Reuters) - President Donal...</td>\n",
              "      <td>politicsNews</td>\n",
              "      <td>December 29, 2017</td>\n",
              "    </tr>\n",
              "  </tbody>\n",
              "</table>\n",
              "</div>"
            ],
            "text/plain": [
              "                                               title  \\\n",
              "0  As U.S. budget fight looms, Republicans flip t...   \n",
              "1  U.S. military to accept transgender recruits o...   \n",
              "2  Senior U.S. Republican senator: 'Let Mr. Muell...   \n",
              "3  FBI Russia probe helped by Australian diplomat...   \n",
              "4  Trump wants Postal Service to charge 'much mor...   \n",
              "\n",
              "                                                text       subject  \\\n",
              "0  WASHINGTON (Reuters) - The head of a conservat...  politicsNews   \n",
              "1  WASHINGTON (Reuters) - Transgender people will...  politicsNews   \n",
              "2  WASHINGTON (Reuters) - The special counsel inv...  politicsNews   \n",
              "3  WASHINGTON (Reuters) - Trump campaign adviser ...  politicsNews   \n",
              "4  SEATTLE/WASHINGTON (Reuters) - President Donal...  politicsNews   \n",
              "\n",
              "                 date  \n",
              "0  December 31, 2017   \n",
              "1  December 29, 2017   \n",
              "2  December 31, 2017   \n",
              "3  December 30, 2017   \n",
              "4  December 29, 2017   "
            ]
          },
          "execution_count": 8,
          "metadata": {},
          "output_type": "execute_result"
        }
      ],
      "source": [
        "true.head()"
      ]
    },
    {
      "cell_type": "markdown",
      "metadata": {
        "id": "dsUY8X08hUwd"
      },
      "source": [
        "Reflect the DataFrame over its main diagonal by writing rows as columns"
      ]
    },
    {
      "cell_type": "code",
      "execution_count": 9,
      "metadata": {
        "colab": {
          "base_uri": "https://localhost:8080/",
          "height": 563
        },
        "id": "JHxfJYyvhUwd",
        "outputId": "3a9cff7c-b6c2-46a0-9d09-ee242335357c"
      },
      "outputs": [
        {
          "data": {
            "text/html": [
              "<div>\n",
              "<style scoped>\n",
              "    .dataframe tbody tr th:only-of-type {\n",
              "        vertical-align: middle;\n",
              "    }\n",
              "\n",
              "    .dataframe tbody tr th {\n",
              "        vertical-align: top;\n",
              "    }\n",
              "\n",
              "    .dataframe thead th {\n",
              "        text-align: right;\n",
              "    }\n",
              "</style>\n",
              "<table border=\"1\" class=\"dataframe\">\n",
              "  <thead>\n",
              "    <tr style=\"text-align: right;\">\n",
              "      <th></th>\n",
              "      <th>0</th>\n",
              "      <th>1</th>\n",
              "      <th>2</th>\n",
              "      <th>3</th>\n",
              "      <th>4</th>\n",
              "      <th>5</th>\n",
              "      <th>6</th>\n",
              "      <th>7</th>\n",
              "      <th>8</th>\n",
              "      <th>9</th>\n",
              "      <th>...</th>\n",
              "      <th>23471</th>\n",
              "      <th>23472</th>\n",
              "      <th>23473</th>\n",
              "      <th>23474</th>\n",
              "      <th>23475</th>\n",
              "      <th>23476</th>\n",
              "      <th>23477</th>\n",
              "      <th>23478</th>\n",
              "      <th>23479</th>\n",
              "      <th>23480</th>\n",
              "    </tr>\n",
              "  </thead>\n",
              "  <tbody>\n",
              "    <tr>\n",
              "      <th>title</th>\n",
              "      <td>Donald Trump Sends Out Embarrassing New Year’...</td>\n",
              "      <td>Drunk Bragging Trump Staffer Started Russian ...</td>\n",
              "      <td>Sheriff David Clarke Becomes An Internet Joke...</td>\n",
              "      <td>Trump Is So Obsessed He Even Has Obama’s Name...</td>\n",
              "      <td>Pope Francis Just Called Out Donald Trump Dur...</td>\n",
              "      <td>Racist Alabama Cops Brutalize Black Boy While...</td>\n",
              "      <td>Fresh Off The Golf Course, Trump Lashes Out A...</td>\n",
              "      <td>Trump Said Some INSANELY Racist Stuff Inside ...</td>\n",
              "      <td>Former CIA Director Slams Trump Over UN Bully...</td>\n",
              "      <td>WATCH: Brand-New Pro-Trump Ad Features So Muc...</td>\n",
              "      <td>...</td>\n",
              "      <td>Seven Iranians freed in the prisoner swap have...</td>\n",
              "      <td>#Hashtag Hell &amp; The Fake Left</td>\n",
              "      <td>Astroturfing: Journalist Reveals Brainwashing ...</td>\n",
              "      <td>The New American Century: An Era of Fraud</td>\n",
              "      <td>Hillary Clinton: ‘Israel First’ (and no peace ...</td>\n",
              "      <td>McPain: John McCain Furious That Iran Treated ...</td>\n",
              "      <td>JUSTICE? Yahoo Settles E-mail Privacy Class-ac...</td>\n",
              "      <td>Sunnistan: US and Allied ‘Safe Zone’ Plan to T...</td>\n",
              "      <td>How to Blow $700 Million: Al Jazeera America F...</td>\n",
              "      <td>10 U.S. Navy Sailors Held by Iranian Military ...</td>\n",
              "    </tr>\n",
              "    <tr>\n",
              "      <th>text</th>\n",
              "      <td>Donald Trump just couldn t wish all Americans ...</td>\n",
              "      <td>House Intelligence Committee Chairman Devin Nu...</td>\n",
              "      <td>On Friday, it was revealed that former Milwauk...</td>\n",
              "      <td>On Christmas day, Donald Trump announced that ...</td>\n",
              "      <td>Pope Francis used his annual Christmas Day mes...</td>\n",
              "      <td>The number of cases of cops brutalizing and ki...</td>\n",
              "      <td>Donald Trump spent a good portion of his day a...</td>\n",
              "      <td>In the wake of yet another court decision that...</td>\n",
              "      <td>Many people have raised the alarm regarding th...</td>\n",
              "      <td>Just when you might have thought we d get a br...</td>\n",
              "      <td>...</td>\n",
              "      <td>21st Century Wire says This week, the historic...</td>\n",
              "      <td>By Dady Chery and Gilbert MercierAll writers ...</td>\n",
              "      <td>Vic Bishop Waking TimesOur reality is carefull...</td>\n",
              "      <td>Paul Craig RobertsIn the last years of the 20t...</td>\n",
              "      <td>Robert Fantina CounterpunchAlthough the United...</td>\n",
              "      <td>21st Century Wire says As 21WIRE reported earl...</td>\n",
              "      <td>21st Century Wire says It s a familiar theme. ...</td>\n",
              "      <td>Patrick Henningsen  21st Century WireRemember ...</td>\n",
              "      <td>21st Century Wire says Al Jazeera America will...</td>\n",
              "      <td>21st Century Wire says As 21WIRE predicted in ...</td>\n",
              "    </tr>\n",
              "    <tr>\n",
              "      <th>subject</th>\n",
              "      <td>News</td>\n",
              "      <td>News</td>\n",
              "      <td>News</td>\n",
              "      <td>News</td>\n",
              "      <td>News</td>\n",
              "      <td>News</td>\n",
              "      <td>News</td>\n",
              "      <td>News</td>\n",
              "      <td>News</td>\n",
              "      <td>News</td>\n",
              "      <td>...</td>\n",
              "      <td>Middle-east</td>\n",
              "      <td>Middle-east</td>\n",
              "      <td>Middle-east</td>\n",
              "      <td>Middle-east</td>\n",
              "      <td>Middle-east</td>\n",
              "      <td>Middle-east</td>\n",
              "      <td>Middle-east</td>\n",
              "      <td>Middle-east</td>\n",
              "      <td>Middle-east</td>\n",
              "      <td>Middle-east</td>\n",
              "    </tr>\n",
              "    <tr>\n",
              "      <th>date</th>\n",
              "      <td>December 31, 2017</td>\n",
              "      <td>December 31, 2017</td>\n",
              "      <td>December 30, 2017</td>\n",
              "      <td>December 29, 2017</td>\n",
              "      <td>December 25, 2017</td>\n",
              "      <td>December 25, 2017</td>\n",
              "      <td>December 23, 2017</td>\n",
              "      <td>December 23, 2017</td>\n",
              "      <td>December 22, 2017</td>\n",
              "      <td>December 21, 2017</td>\n",
              "      <td>...</td>\n",
              "      <td>January 20, 2016</td>\n",
              "      <td>January 19, 2016</td>\n",
              "      <td>January 19, 2016</td>\n",
              "      <td>January 19, 2016</td>\n",
              "      <td>January 18, 2016</td>\n",
              "      <td>January 16, 2016</td>\n",
              "      <td>January 16, 2016</td>\n",
              "      <td>January 15, 2016</td>\n",
              "      <td>January 14, 2016</td>\n",
              "      <td>January 12, 2016</td>\n",
              "    </tr>\n",
              "  </tbody>\n",
              "</table>\n",
              "<p>4 rows × 23481 columns</p>\n",
              "</div>"
            ],
            "text/plain": [
              "                                                     0      \\\n",
              "title     Donald Trump Sends Out Embarrassing New Year’...   \n",
              "text     Donald Trump just couldn t wish all Americans ...   \n",
              "subject                                               News   \n",
              "date                                     December 31, 2017   \n",
              "\n",
              "                                                     1      \\\n",
              "title     Drunk Bragging Trump Staffer Started Russian ...   \n",
              "text     House Intelligence Committee Chairman Devin Nu...   \n",
              "subject                                               News   \n",
              "date                                     December 31, 2017   \n",
              "\n",
              "                                                     2      \\\n",
              "title     Sheriff David Clarke Becomes An Internet Joke...   \n",
              "text     On Friday, it was revealed that former Milwauk...   \n",
              "subject                                               News   \n",
              "date                                     December 30, 2017   \n",
              "\n",
              "                                                     3      \\\n",
              "title     Trump Is So Obsessed He Even Has Obama’s Name...   \n",
              "text     On Christmas day, Donald Trump announced that ...   \n",
              "subject                                               News   \n",
              "date                                     December 29, 2017   \n",
              "\n",
              "                                                     4      \\\n",
              "title     Pope Francis Just Called Out Donald Trump Dur...   \n",
              "text     Pope Francis used his annual Christmas Day mes...   \n",
              "subject                                               News   \n",
              "date                                     December 25, 2017   \n",
              "\n",
              "                                                     5      \\\n",
              "title     Racist Alabama Cops Brutalize Black Boy While...   \n",
              "text     The number of cases of cops brutalizing and ki...   \n",
              "subject                                               News   \n",
              "date                                     December 25, 2017   \n",
              "\n",
              "                                                     6      \\\n",
              "title     Fresh Off The Golf Course, Trump Lashes Out A...   \n",
              "text     Donald Trump spent a good portion of his day a...   \n",
              "subject                                               News   \n",
              "date                                     December 23, 2017   \n",
              "\n",
              "                                                     7      \\\n",
              "title     Trump Said Some INSANELY Racist Stuff Inside ...   \n",
              "text     In the wake of yet another court decision that...   \n",
              "subject                                               News   \n",
              "date                                     December 23, 2017   \n",
              "\n",
              "                                                     8      \\\n",
              "title     Former CIA Director Slams Trump Over UN Bully...   \n",
              "text     Many people have raised the alarm regarding th...   \n",
              "subject                                               News   \n",
              "date                                     December 22, 2017   \n",
              "\n",
              "                                                     9      ...  \\\n",
              "title     WATCH: Brand-New Pro-Trump Ad Features So Muc...  ...   \n",
              "text     Just when you might have thought we d get a br...  ...   \n",
              "subject                                               News  ...   \n",
              "date                                     December 21, 2017  ...   \n",
              "\n",
              "                                                     23471  \\\n",
              "title    Seven Iranians freed in the prisoner swap have...   \n",
              "text     21st Century Wire says This week, the historic...   \n",
              "subject                                        Middle-east   \n",
              "date                                      January 20, 2016   \n",
              "\n",
              "                                                     23472  \\\n",
              "title                        #Hashtag Hell & The Fake Left   \n",
              "text      By Dady Chery and Gilbert MercierAll writers ...   \n",
              "subject                                        Middle-east   \n",
              "date                                      January 19, 2016   \n",
              "\n",
              "                                                     23473  \\\n",
              "title    Astroturfing: Journalist Reveals Brainwashing ...   \n",
              "text     Vic Bishop Waking TimesOur reality is carefull...   \n",
              "subject                                        Middle-east   \n",
              "date                                      January 19, 2016   \n",
              "\n",
              "                                                     23474  \\\n",
              "title            The New American Century: An Era of Fraud   \n",
              "text     Paul Craig RobertsIn the last years of the 20t...   \n",
              "subject                                        Middle-east   \n",
              "date                                      January 19, 2016   \n",
              "\n",
              "                                                     23475  \\\n",
              "title    Hillary Clinton: ‘Israel First’ (and no peace ...   \n",
              "text     Robert Fantina CounterpunchAlthough the United...   \n",
              "subject                                        Middle-east   \n",
              "date                                      January 18, 2016   \n",
              "\n",
              "                                                     23476  \\\n",
              "title    McPain: John McCain Furious That Iran Treated ...   \n",
              "text     21st Century Wire says As 21WIRE reported earl...   \n",
              "subject                                        Middle-east   \n",
              "date                                      January 16, 2016   \n",
              "\n",
              "                                                     23477  \\\n",
              "title    JUSTICE? Yahoo Settles E-mail Privacy Class-ac...   \n",
              "text     21st Century Wire says It s a familiar theme. ...   \n",
              "subject                                        Middle-east   \n",
              "date                                      January 16, 2016   \n",
              "\n",
              "                                                     23478  \\\n",
              "title    Sunnistan: US and Allied ‘Safe Zone’ Plan to T...   \n",
              "text     Patrick Henningsen  21st Century WireRemember ...   \n",
              "subject                                        Middle-east   \n",
              "date                                      January 15, 2016   \n",
              "\n",
              "                                                     23479  \\\n",
              "title    How to Blow $700 Million: Al Jazeera America F...   \n",
              "text     21st Century Wire says Al Jazeera America will...   \n",
              "subject                                        Middle-east   \n",
              "date                                      January 14, 2016   \n",
              "\n",
              "                                                     23480  \n",
              "title    10 U.S. Navy Sailors Held by Iranian Military ...  \n",
              "text     21st Century Wire says As 21WIRE predicted in ...  \n",
              "subject                                        Middle-east  \n",
              "date                                      January 12, 2016  \n",
              "\n",
              "[4 rows x 23481 columns]"
            ]
          },
          "execution_count": 9,
          "metadata": {},
          "output_type": "execute_result"
        }
      ],
      "source": [
        "fake.transpose()"
      ]
    },
    {
      "cell_type": "code",
      "execution_count": 10,
      "metadata": {
        "colab": {
          "base_uri": "https://localhost:8080/",
          "height": 511
        },
        "id": "M8v9fILGhUwd",
        "outputId": "68420778-d25b-4744-96bf-5abf4ed4390c"
      },
      "outputs": [
        {
          "data": {
            "text/html": [
              "<div>\n",
              "<style scoped>\n",
              "    .dataframe tbody tr th:only-of-type {\n",
              "        vertical-align: middle;\n",
              "    }\n",
              "\n",
              "    .dataframe tbody tr th {\n",
              "        vertical-align: top;\n",
              "    }\n",
              "\n",
              "    .dataframe thead th {\n",
              "        text-align: right;\n",
              "    }\n",
              "</style>\n",
              "<table border=\"1\" class=\"dataframe\">\n",
              "  <thead>\n",
              "    <tr style=\"text-align: right;\">\n",
              "      <th></th>\n",
              "      <th>0</th>\n",
              "      <th>1</th>\n",
              "      <th>2</th>\n",
              "      <th>3</th>\n",
              "      <th>4</th>\n",
              "      <th>5</th>\n",
              "      <th>6</th>\n",
              "      <th>7</th>\n",
              "      <th>8</th>\n",
              "      <th>9</th>\n",
              "      <th>...</th>\n",
              "      <th>21407</th>\n",
              "      <th>21408</th>\n",
              "      <th>21409</th>\n",
              "      <th>21410</th>\n",
              "      <th>21411</th>\n",
              "      <th>21412</th>\n",
              "      <th>21413</th>\n",
              "      <th>21414</th>\n",
              "      <th>21415</th>\n",
              "      <th>21416</th>\n",
              "    </tr>\n",
              "  </thead>\n",
              "  <tbody>\n",
              "    <tr>\n",
              "      <th>title</th>\n",
              "      <td>As U.S. budget fight looms, Republicans flip t...</td>\n",
              "      <td>U.S. military to accept transgender recruits o...</td>\n",
              "      <td>Senior U.S. Republican senator: 'Let Mr. Muell...</td>\n",
              "      <td>FBI Russia probe helped by Australian diplomat...</td>\n",
              "      <td>Trump wants Postal Service to charge 'much mor...</td>\n",
              "      <td>White House, Congress prepare for talks on spe...</td>\n",
              "      <td>Trump says Russia probe will be fair, but time...</td>\n",
              "      <td>Factbox: Trump on Twitter (Dec 29) - Approval ...</td>\n",
              "      <td>Trump on Twitter (Dec 28) - Global Warming</td>\n",
              "      <td>Alabama official to certify Senator-elect Jone...</td>\n",
              "      <td>...</td>\n",
              "      <td>Mata Pires, owner of embattled Brazil builder ...</td>\n",
              "      <td>U.S., North Korea clash at U.N. forum over nuc...</td>\n",
              "      <td>U.S., North Korea clash at U.N. arms forum on ...</td>\n",
              "      <td>Headless torso could belong to submarine journ...</td>\n",
              "      <td>North Korea shipments to Syria chemical arms a...</td>\n",
              "      <td>'Fully committed' NATO backs new U.S. approach...</td>\n",
              "      <td>LexisNexis withdrew two products from Chinese ...</td>\n",
              "      <td>Minsk cultural hub becomes haven from authorities</td>\n",
              "      <td>Vatican upbeat on possibility of Pope Francis ...</td>\n",
              "      <td>Indonesia to buy $1.14 billion worth of Russia...</td>\n",
              "    </tr>\n",
              "    <tr>\n",
              "      <th>text</th>\n",
              "      <td>WASHINGTON (Reuters) - The head of a conservat...</td>\n",
              "      <td>WASHINGTON (Reuters) - Transgender people will...</td>\n",
              "      <td>WASHINGTON (Reuters) - The special counsel inv...</td>\n",
              "      <td>WASHINGTON (Reuters) - Trump campaign adviser ...</td>\n",
              "      <td>SEATTLE/WASHINGTON (Reuters) - President Donal...</td>\n",
              "      <td>WEST PALM BEACH, Fla./WASHINGTON (Reuters) - T...</td>\n",
              "      <td>WEST PALM BEACH, Fla (Reuters) - President Don...</td>\n",
              "      <td>The following statements were posted to the ve...</td>\n",
              "      <td>The following statements were posted to the ve...</td>\n",
              "      <td>WASHINGTON (Reuters) - Alabama Secretary of St...</td>\n",
              "      <td>...</td>\n",
              "      <td>SAO PAULO (Reuters) - Cesar Mata Pires, the ow...</td>\n",
              "      <td>GENEVA (Reuters) - North Korea and the United ...</td>\n",
              "      <td>GENEVA (Reuters) - North Korea and the United ...</td>\n",
              "      <td>COPENHAGEN (Reuters) - Danish police said on T...</td>\n",
              "      <td>UNITED NATIONS (Reuters) - Two North Korean sh...</td>\n",
              "      <td>BRUSSELS (Reuters) - NATO allies on Tuesday we...</td>\n",
              "      <td>LONDON (Reuters) - LexisNexis, a provider of l...</td>\n",
              "      <td>MINSK (Reuters) - In the shadow of disused Sov...</td>\n",
              "      <td>MOSCOW (Reuters) - Vatican Secretary of State ...</td>\n",
              "      <td>JAKARTA (Reuters) - Indonesia will buy 11 Sukh...</td>\n",
              "    </tr>\n",
              "    <tr>\n",
              "      <th>subject</th>\n",
              "      <td>politicsNews</td>\n",
              "      <td>politicsNews</td>\n",
              "      <td>politicsNews</td>\n",
              "      <td>politicsNews</td>\n",
              "      <td>politicsNews</td>\n",
              "      <td>politicsNews</td>\n",
              "      <td>politicsNews</td>\n",
              "      <td>politicsNews</td>\n",
              "      <td>politicsNews</td>\n",
              "      <td>politicsNews</td>\n",
              "      <td>...</td>\n",
              "      <td>worldnews</td>\n",
              "      <td>worldnews</td>\n",
              "      <td>worldnews</td>\n",
              "      <td>worldnews</td>\n",
              "      <td>worldnews</td>\n",
              "      <td>worldnews</td>\n",
              "      <td>worldnews</td>\n",
              "      <td>worldnews</td>\n",
              "      <td>worldnews</td>\n",
              "      <td>worldnews</td>\n",
              "    </tr>\n",
              "    <tr>\n",
              "      <th>date</th>\n",
              "      <td>December 31, 2017</td>\n",
              "      <td>December 29, 2017</td>\n",
              "      <td>December 31, 2017</td>\n",
              "      <td>December 30, 2017</td>\n",
              "      <td>December 29, 2017</td>\n",
              "      <td>December 29, 2017</td>\n",
              "      <td>December 29, 2017</td>\n",
              "      <td>December 29, 2017</td>\n",
              "      <td>December 29, 2017</td>\n",
              "      <td>December 28, 2017</td>\n",
              "      <td>...</td>\n",
              "      <td>August 22, 2017</td>\n",
              "      <td>August 22, 2017</td>\n",
              "      <td>August 22, 2017</td>\n",
              "      <td>August 22, 2017</td>\n",
              "      <td>August 21, 2017</td>\n",
              "      <td>August 22, 2017</td>\n",
              "      <td>August 22, 2017</td>\n",
              "      <td>August 22, 2017</td>\n",
              "      <td>August 22, 2017</td>\n",
              "      <td>August 22, 2017</td>\n",
              "    </tr>\n",
              "  </tbody>\n",
              "</table>\n",
              "<p>4 rows × 21417 columns</p>\n",
              "</div>"
            ],
            "text/plain": [
              "                                                     0      \\\n",
              "title    As U.S. budget fight looms, Republicans flip t...   \n",
              "text     WASHINGTON (Reuters) - The head of a conservat...   \n",
              "subject                                       politicsNews   \n",
              "date                                    December 31, 2017    \n",
              "\n",
              "                                                     1      \\\n",
              "title    U.S. military to accept transgender recruits o...   \n",
              "text     WASHINGTON (Reuters) - Transgender people will...   \n",
              "subject                                       politicsNews   \n",
              "date                                    December 29, 2017    \n",
              "\n",
              "                                                     2      \\\n",
              "title    Senior U.S. Republican senator: 'Let Mr. Muell...   \n",
              "text     WASHINGTON (Reuters) - The special counsel inv...   \n",
              "subject                                       politicsNews   \n",
              "date                                    December 31, 2017    \n",
              "\n",
              "                                                     3      \\\n",
              "title    FBI Russia probe helped by Australian diplomat...   \n",
              "text     WASHINGTON (Reuters) - Trump campaign adviser ...   \n",
              "subject                                       politicsNews   \n",
              "date                                    December 30, 2017    \n",
              "\n",
              "                                                     4      \\\n",
              "title    Trump wants Postal Service to charge 'much mor...   \n",
              "text     SEATTLE/WASHINGTON (Reuters) - President Donal...   \n",
              "subject                                       politicsNews   \n",
              "date                                    December 29, 2017    \n",
              "\n",
              "                                                     5      \\\n",
              "title    White House, Congress prepare for talks on spe...   \n",
              "text     WEST PALM BEACH, Fla./WASHINGTON (Reuters) - T...   \n",
              "subject                                       politicsNews   \n",
              "date                                    December 29, 2017    \n",
              "\n",
              "                                                     6      \\\n",
              "title    Trump says Russia probe will be fair, but time...   \n",
              "text     WEST PALM BEACH, Fla (Reuters) - President Don...   \n",
              "subject                                       politicsNews   \n",
              "date                                    December 29, 2017    \n",
              "\n",
              "                                                     7      \\\n",
              "title    Factbox: Trump on Twitter (Dec 29) - Approval ...   \n",
              "text     The following statements were posted to the ve...   \n",
              "subject                                       politicsNews   \n",
              "date                                    December 29, 2017    \n",
              "\n",
              "                                                     8      \\\n",
              "title           Trump on Twitter (Dec 28) - Global Warming   \n",
              "text     The following statements were posted to the ve...   \n",
              "subject                                       politicsNews   \n",
              "date                                    December 29, 2017    \n",
              "\n",
              "                                                     9      ...  \\\n",
              "title    Alabama official to certify Senator-elect Jone...  ...   \n",
              "text     WASHINGTON (Reuters) - Alabama Secretary of St...  ...   \n",
              "subject                                       politicsNews  ...   \n",
              "date                                    December 28, 2017   ...   \n",
              "\n",
              "                                                     21407  \\\n",
              "title    Mata Pires, owner of embattled Brazil builder ...   \n",
              "text     SAO PAULO (Reuters) - Cesar Mata Pires, the ow...   \n",
              "subject                                          worldnews   \n",
              "date                                      August 22, 2017    \n",
              "\n",
              "                                                     21408  \\\n",
              "title    U.S., North Korea clash at U.N. forum over nuc...   \n",
              "text     GENEVA (Reuters) - North Korea and the United ...   \n",
              "subject                                          worldnews   \n",
              "date                                      August 22, 2017    \n",
              "\n",
              "                                                     21409  \\\n",
              "title    U.S., North Korea clash at U.N. arms forum on ...   \n",
              "text     GENEVA (Reuters) - North Korea and the United ...   \n",
              "subject                                          worldnews   \n",
              "date                                      August 22, 2017    \n",
              "\n",
              "                                                     21410  \\\n",
              "title    Headless torso could belong to submarine journ...   \n",
              "text     COPENHAGEN (Reuters) - Danish police said on T...   \n",
              "subject                                          worldnews   \n",
              "date                                      August 22, 2017    \n",
              "\n",
              "                                                     21411  \\\n",
              "title    North Korea shipments to Syria chemical arms a...   \n",
              "text     UNITED NATIONS (Reuters) - Two North Korean sh...   \n",
              "subject                                          worldnews   \n",
              "date                                      August 21, 2017    \n",
              "\n",
              "                                                     21412  \\\n",
              "title    'Fully committed' NATO backs new U.S. approach...   \n",
              "text     BRUSSELS (Reuters) - NATO allies on Tuesday we...   \n",
              "subject                                          worldnews   \n",
              "date                                      August 22, 2017    \n",
              "\n",
              "                                                     21413  \\\n",
              "title    LexisNexis withdrew two products from Chinese ...   \n",
              "text     LONDON (Reuters) - LexisNexis, a provider of l...   \n",
              "subject                                          worldnews   \n",
              "date                                      August 22, 2017    \n",
              "\n",
              "                                                     21414  \\\n",
              "title    Minsk cultural hub becomes haven from authorities   \n",
              "text     MINSK (Reuters) - In the shadow of disused Sov...   \n",
              "subject                                          worldnews   \n",
              "date                                      August 22, 2017    \n",
              "\n",
              "                                                     21415  \\\n",
              "title    Vatican upbeat on possibility of Pope Francis ...   \n",
              "text     MOSCOW (Reuters) - Vatican Secretary of State ...   \n",
              "subject                                          worldnews   \n",
              "date                                      August 22, 2017    \n",
              "\n",
              "                                                     21416  \n",
              "title    Indonesia to buy $1.14 billion worth of Russia...  \n",
              "text     JAKARTA (Reuters) - Indonesia will buy 11 Sukh...  \n",
              "subject                                          worldnews  \n",
              "date                                      August 22, 2017   \n",
              "\n",
              "[4 rows x 21417 columns]"
            ]
          },
          "execution_count": 10,
          "metadata": {},
          "output_type": "execute_result"
        }
      ],
      "source": [
        "true.transpose()"
      ]
    },
    {
      "cell_type": "code",
      "execution_count": 11,
      "metadata": {
        "id": "xjHi1u4KhUwd"
      },
      "outputs": [],
      "source": [
        "fake['class']=0\n",
        "true['class']=1"
      ]
    },
    {
      "cell_type": "code",
      "execution_count": 12,
      "metadata": {
        "colab": {
          "base_uri": "https://localhost:8080/"
        },
        "id": "nNPXmAvvhUwe",
        "outputId": "2a835d90-06b9-4408-fa72-a4a3eec5c453"
      },
      "outputs": [
        {
          "data": {
            "text/plain": [
              "((23481, 5), (21417, 5))"
            ]
          },
          "execution_count": 12,
          "metadata": {},
          "output_type": "execute_result"
        }
      ],
      "source": [
        "fake.shape, true.shape"
      ]
    },
    {
      "cell_type": "code",
      "execution_count": 13,
      "metadata": {
        "id": "3nl1QPqwhUwe"
      },
      "outputs": [],
      "source": [
        "fake_test = fake.tail(10) #get last 10 samples\n",
        "for i in range(23480, 23470, -1):\n",
        "    fake.drop([i],axis = 0, inplace = True) #drop last 10 samples\n",
        "\n",
        "#repeat for true    \n",
        "true_test = true.tail(10) #get last 10 samples\n",
        "for i in range(21416, 21406, -1):\n",
        "    true.drop([i],axis = 0, inplace = True) #drop last 10 samples\n",
        "    \n",
        "        "
      ]
    },
    {
      "cell_type": "code",
      "execution_count": 14,
      "metadata": {
        "colab": {
          "base_uri": "https://localhost:8080/"
        },
        "id": "YXb38IoehUwe",
        "outputId": "d1cac7d4-bc14-4adf-bb56-f155b2a07032"
      },
      "outputs": [
        {
          "data": {
            "text/plain": [
              "((23471, 5), (21407, 5))"
            ]
          },
          "execution_count": 14,
          "metadata": {},
          "output_type": "execute_result"
        }
      ],
      "source": [
        "fake.shape, true.shape"
      ]
    },
    {
      "cell_type": "markdown",
      "metadata": {
        "id": "zE_LQD-8hUwe"
      },
      "source": [
        "we've deleted 10 rows from each datasets it's crucial to always check the shape to avoid dim error encounters"
      ]
    },
    {
      "cell_type": "code",
      "execution_count": 15,
      "metadata": {
        "id": "RkBViUKXhUwf"
      },
      "outputs": [],
      "source": [
        "fake_test['class']=0\n",
        "true_test['class']=1\n",
        "#Ignore the warning message of copying dataframe\n",
        "import warnings\n",
        "warnings.filterwarnings(\"ignore\")"
      ]
    },
    {
      "cell_type": "markdown",
      "metadata": {
        "id": "pomRk5m-hUwf"
      },
      "source": [
        "<a id=\"12\"></a>\n",
        "<h3 style='background:purple; border:0; color:white;'><center>Visualization & Analysis</center></h3>"
      ]
    },
    {
      "cell_type": "code",
      "execution_count": 16,
      "metadata": {
        "colab": {
          "base_uri": "https://localhost:8080/",
          "height": 363
        },
        "id": "d4i4C1q2hUwf",
        "outputId": "362f43ff-753b-4079-f3d2-2d225613c7c9"
      },
      "outputs": [
        {
          "data": {
            "text/html": [
              "<div>\n",
              "<style scoped>\n",
              "    .dataframe tbody tr th:only-of-type {\n",
              "        vertical-align: middle;\n",
              "    }\n",
              "\n",
              "    .dataframe tbody tr th {\n",
              "        vertical-align: top;\n",
              "    }\n",
              "\n",
              "    .dataframe thead th {\n",
              "        text-align: right;\n",
              "    }\n",
              "</style>\n",
              "<table border=\"1\" class=\"dataframe\">\n",
              "  <thead>\n",
              "    <tr style=\"text-align: right;\">\n",
              "      <th></th>\n",
              "      <th>title</th>\n",
              "      <th>text</th>\n",
              "      <th>subject</th>\n",
              "      <th>date</th>\n",
              "      <th>class</th>\n",
              "    </tr>\n",
              "  </thead>\n",
              "  <tbody>\n",
              "    <tr>\n",
              "      <th>23471</th>\n",
              "      <td>Seven Iranians freed in the prisoner swap have...</td>\n",
              "      <td>21st Century Wire says This week, the historic...</td>\n",
              "      <td>Middle-east</td>\n",
              "      <td>January 20, 2016</td>\n",
              "      <td>0</td>\n",
              "    </tr>\n",
              "    <tr>\n",
              "      <th>23472</th>\n",
              "      <td>#Hashtag Hell &amp; The Fake Left</td>\n",
              "      <td>By Dady Chery and Gilbert MercierAll writers ...</td>\n",
              "      <td>Middle-east</td>\n",
              "      <td>January 19, 2016</td>\n",
              "      <td>0</td>\n",
              "    </tr>\n",
              "    <tr>\n",
              "      <th>23473</th>\n",
              "      <td>Astroturfing: Journalist Reveals Brainwashing ...</td>\n",
              "      <td>Vic Bishop Waking TimesOur reality is carefull...</td>\n",
              "      <td>Middle-east</td>\n",
              "      <td>January 19, 2016</td>\n",
              "      <td>0</td>\n",
              "    </tr>\n",
              "    <tr>\n",
              "      <th>23474</th>\n",
              "      <td>The New American Century: An Era of Fraud</td>\n",
              "      <td>Paul Craig RobertsIn the last years of the 20t...</td>\n",
              "      <td>Middle-east</td>\n",
              "      <td>January 19, 2016</td>\n",
              "      <td>0</td>\n",
              "    </tr>\n",
              "    <tr>\n",
              "      <th>23475</th>\n",
              "      <td>Hillary Clinton: ‘Israel First’ (and no peace ...</td>\n",
              "      <td>Robert Fantina CounterpunchAlthough the United...</td>\n",
              "      <td>Middle-east</td>\n",
              "      <td>January 18, 2016</td>\n",
              "      <td>0</td>\n",
              "    </tr>\n",
              "    <tr>\n",
              "      <th>23476</th>\n",
              "      <td>McPain: John McCain Furious That Iran Treated ...</td>\n",
              "      <td>21st Century Wire says As 21WIRE reported earl...</td>\n",
              "      <td>Middle-east</td>\n",
              "      <td>January 16, 2016</td>\n",
              "      <td>0</td>\n",
              "    </tr>\n",
              "    <tr>\n",
              "      <th>23477</th>\n",
              "      <td>JUSTICE? Yahoo Settles E-mail Privacy Class-ac...</td>\n",
              "      <td>21st Century Wire says It s a familiar theme. ...</td>\n",
              "      <td>Middle-east</td>\n",
              "      <td>January 16, 2016</td>\n",
              "      <td>0</td>\n",
              "    </tr>\n",
              "    <tr>\n",
              "      <th>23478</th>\n",
              "      <td>Sunnistan: US and Allied ‘Safe Zone’ Plan to T...</td>\n",
              "      <td>Patrick Henningsen  21st Century WireRemember ...</td>\n",
              "      <td>Middle-east</td>\n",
              "      <td>January 15, 2016</td>\n",
              "      <td>0</td>\n",
              "    </tr>\n",
              "    <tr>\n",
              "      <th>23479</th>\n",
              "      <td>How to Blow $700 Million: Al Jazeera America F...</td>\n",
              "      <td>21st Century Wire says Al Jazeera America will...</td>\n",
              "      <td>Middle-east</td>\n",
              "      <td>January 14, 2016</td>\n",
              "      <td>0</td>\n",
              "    </tr>\n",
              "    <tr>\n",
              "      <th>23480</th>\n",
              "      <td>10 U.S. Navy Sailors Held by Iranian Military ...</td>\n",
              "      <td>21st Century Wire says As 21WIRE predicted in ...</td>\n",
              "      <td>Middle-east</td>\n",
              "      <td>January 12, 2016</td>\n",
              "      <td>0</td>\n",
              "    </tr>\n",
              "  </tbody>\n",
              "</table>\n",
              "</div>"
            ],
            "text/plain": [
              "                                                   title  \\\n",
              "23471  Seven Iranians freed in the prisoner swap have...   \n",
              "23472                      #Hashtag Hell & The Fake Left   \n",
              "23473  Astroturfing: Journalist Reveals Brainwashing ...   \n",
              "23474          The New American Century: An Era of Fraud   \n",
              "23475  Hillary Clinton: ‘Israel First’ (and no peace ...   \n",
              "23476  McPain: John McCain Furious That Iran Treated ...   \n",
              "23477  JUSTICE? Yahoo Settles E-mail Privacy Class-ac...   \n",
              "23478  Sunnistan: US and Allied ‘Safe Zone’ Plan to T...   \n",
              "23479  How to Blow $700 Million: Al Jazeera America F...   \n",
              "23480  10 U.S. Navy Sailors Held by Iranian Military ...   \n",
              "\n",
              "                                                    text      subject  \\\n",
              "23471  21st Century Wire says This week, the historic...  Middle-east   \n",
              "23472   By Dady Chery and Gilbert MercierAll writers ...  Middle-east   \n",
              "23473  Vic Bishop Waking TimesOur reality is carefull...  Middle-east   \n",
              "23474  Paul Craig RobertsIn the last years of the 20t...  Middle-east   \n",
              "23475  Robert Fantina CounterpunchAlthough the United...  Middle-east   \n",
              "23476  21st Century Wire says As 21WIRE reported earl...  Middle-east   \n",
              "23477  21st Century Wire says It s a familiar theme. ...  Middle-east   \n",
              "23478  Patrick Henningsen  21st Century WireRemember ...  Middle-east   \n",
              "23479  21st Century Wire says Al Jazeera America will...  Middle-east   \n",
              "23480  21st Century Wire says As 21WIRE predicted in ...  Middle-east   \n",
              "\n",
              "                   date  class  \n",
              "23471  January 20, 2016      0  \n",
              "23472  January 19, 2016      0  \n",
              "23473  January 19, 2016      0  \n",
              "23474  January 19, 2016      0  \n",
              "23475  January 18, 2016      0  \n",
              "23476  January 16, 2016      0  \n",
              "23477  January 16, 2016      0  \n",
              "23478  January 15, 2016      0  \n",
              "23479  January 14, 2016      0  \n",
              "23480  January 12, 2016      0  "
            ]
          },
          "execution_count": 16,
          "metadata": {},
          "output_type": "execute_result"
        }
      ],
      "source": [
        "fake_test.head(10)"
      ]
    },
    {
      "cell_type": "code",
      "execution_count": 17,
      "metadata": {
        "colab": {
          "base_uri": "https://localhost:8080/",
          "height": 363
        },
        "id": "_pGL2yM5hUwf",
        "outputId": "130ca05a-cd95-4bc0-c0ec-92783167b39f"
      },
      "outputs": [
        {
          "data": {
            "text/html": [
              "<div>\n",
              "<style scoped>\n",
              "    .dataframe tbody tr th:only-of-type {\n",
              "        vertical-align: middle;\n",
              "    }\n",
              "\n",
              "    .dataframe tbody tr th {\n",
              "        vertical-align: top;\n",
              "    }\n",
              "\n",
              "    .dataframe thead th {\n",
              "        text-align: right;\n",
              "    }\n",
              "</style>\n",
              "<table border=\"1\" class=\"dataframe\">\n",
              "  <thead>\n",
              "    <tr style=\"text-align: right;\">\n",
              "      <th></th>\n",
              "      <th>title</th>\n",
              "      <th>text</th>\n",
              "      <th>subject</th>\n",
              "      <th>date</th>\n",
              "      <th>class</th>\n",
              "    </tr>\n",
              "  </thead>\n",
              "  <tbody>\n",
              "    <tr>\n",
              "      <th>21407</th>\n",
              "      <td>Mata Pires, owner of embattled Brazil builder ...</td>\n",
              "      <td>SAO PAULO (Reuters) - Cesar Mata Pires, the ow...</td>\n",
              "      <td>worldnews</td>\n",
              "      <td>August 22, 2017</td>\n",
              "      <td>1</td>\n",
              "    </tr>\n",
              "    <tr>\n",
              "      <th>21408</th>\n",
              "      <td>U.S., North Korea clash at U.N. forum over nuc...</td>\n",
              "      <td>GENEVA (Reuters) - North Korea and the United ...</td>\n",
              "      <td>worldnews</td>\n",
              "      <td>August 22, 2017</td>\n",
              "      <td>1</td>\n",
              "    </tr>\n",
              "    <tr>\n",
              "      <th>21409</th>\n",
              "      <td>U.S., North Korea clash at U.N. arms forum on ...</td>\n",
              "      <td>GENEVA (Reuters) - North Korea and the United ...</td>\n",
              "      <td>worldnews</td>\n",
              "      <td>August 22, 2017</td>\n",
              "      <td>1</td>\n",
              "    </tr>\n",
              "    <tr>\n",
              "      <th>21410</th>\n",
              "      <td>Headless torso could belong to submarine journ...</td>\n",
              "      <td>COPENHAGEN (Reuters) - Danish police said on T...</td>\n",
              "      <td>worldnews</td>\n",
              "      <td>August 22, 2017</td>\n",
              "      <td>1</td>\n",
              "    </tr>\n",
              "    <tr>\n",
              "      <th>21411</th>\n",
              "      <td>North Korea shipments to Syria chemical arms a...</td>\n",
              "      <td>UNITED NATIONS (Reuters) - Two North Korean sh...</td>\n",
              "      <td>worldnews</td>\n",
              "      <td>August 21, 2017</td>\n",
              "      <td>1</td>\n",
              "    </tr>\n",
              "    <tr>\n",
              "      <th>21412</th>\n",
              "      <td>'Fully committed' NATO backs new U.S. approach...</td>\n",
              "      <td>BRUSSELS (Reuters) - NATO allies on Tuesday we...</td>\n",
              "      <td>worldnews</td>\n",
              "      <td>August 22, 2017</td>\n",
              "      <td>1</td>\n",
              "    </tr>\n",
              "    <tr>\n",
              "      <th>21413</th>\n",
              "      <td>LexisNexis withdrew two products from Chinese ...</td>\n",
              "      <td>LONDON (Reuters) - LexisNexis, a provider of l...</td>\n",
              "      <td>worldnews</td>\n",
              "      <td>August 22, 2017</td>\n",
              "      <td>1</td>\n",
              "    </tr>\n",
              "    <tr>\n",
              "      <th>21414</th>\n",
              "      <td>Minsk cultural hub becomes haven from authorities</td>\n",
              "      <td>MINSK (Reuters) - In the shadow of disused Sov...</td>\n",
              "      <td>worldnews</td>\n",
              "      <td>August 22, 2017</td>\n",
              "      <td>1</td>\n",
              "    </tr>\n",
              "    <tr>\n",
              "      <th>21415</th>\n",
              "      <td>Vatican upbeat on possibility of Pope Francis ...</td>\n",
              "      <td>MOSCOW (Reuters) - Vatican Secretary of State ...</td>\n",
              "      <td>worldnews</td>\n",
              "      <td>August 22, 2017</td>\n",
              "      <td>1</td>\n",
              "    </tr>\n",
              "    <tr>\n",
              "      <th>21416</th>\n",
              "      <td>Indonesia to buy $1.14 billion worth of Russia...</td>\n",
              "      <td>JAKARTA (Reuters) - Indonesia will buy 11 Sukh...</td>\n",
              "      <td>worldnews</td>\n",
              "      <td>August 22, 2017</td>\n",
              "      <td>1</td>\n",
              "    </tr>\n",
              "  </tbody>\n",
              "</table>\n",
              "</div>"
            ],
            "text/plain": [
              "                                                   title  \\\n",
              "21407  Mata Pires, owner of embattled Brazil builder ...   \n",
              "21408  U.S., North Korea clash at U.N. forum over nuc...   \n",
              "21409  U.S., North Korea clash at U.N. arms forum on ...   \n",
              "21410  Headless torso could belong to submarine journ...   \n",
              "21411  North Korea shipments to Syria chemical arms a...   \n",
              "21412  'Fully committed' NATO backs new U.S. approach...   \n",
              "21413  LexisNexis withdrew two products from Chinese ...   \n",
              "21414  Minsk cultural hub becomes haven from authorities   \n",
              "21415  Vatican upbeat on possibility of Pope Francis ...   \n",
              "21416  Indonesia to buy $1.14 billion worth of Russia...   \n",
              "\n",
              "                                                    text    subject  \\\n",
              "21407  SAO PAULO (Reuters) - Cesar Mata Pires, the ow...  worldnews   \n",
              "21408  GENEVA (Reuters) - North Korea and the United ...  worldnews   \n",
              "21409  GENEVA (Reuters) - North Korea and the United ...  worldnews   \n",
              "21410  COPENHAGEN (Reuters) - Danish police said on T...  worldnews   \n",
              "21411  UNITED NATIONS (Reuters) - Two North Korean sh...  worldnews   \n",
              "21412  BRUSSELS (Reuters) - NATO allies on Tuesday we...  worldnews   \n",
              "21413  LONDON (Reuters) - LexisNexis, a provider of l...  worldnews   \n",
              "21414  MINSK (Reuters) - In the shadow of disused Sov...  worldnews   \n",
              "21415  MOSCOW (Reuters) - Vatican Secretary of State ...  worldnews   \n",
              "21416  JAKARTA (Reuters) - Indonesia will buy 11 Sukh...  worldnews   \n",
              "\n",
              "                   date  class  \n",
              "21407  August 22, 2017       1  \n",
              "21408  August 22, 2017       1  \n",
              "21409  August 22, 2017       1  \n",
              "21410  August 22, 2017       1  \n",
              "21411  August 21, 2017       1  \n",
              "21412  August 22, 2017       1  \n",
              "21413  August 22, 2017       1  \n",
              "21414  August 22, 2017       1  \n",
              "21415  August 22, 2017       1  \n",
              "21416  August 22, 2017       1  "
            ]
          },
          "execution_count": 17,
          "metadata": {},
          "output_type": "execute_result"
        }
      ],
      "source": [
        "true_test.head(10)"
      ]
    },
    {
      "cell_type": "markdown",
      "metadata": {
        "id": "vhITmPtPhUwg"
      },
      "source": [
        "Now to merge fake and true tests and then we merge both fake and new csv"
      ]
    },
    {
      "cell_type": "code",
      "execution_count": 18,
      "metadata": {
        "colab": {
          "base_uri": "https://localhost:8080/",
          "height": 363
        },
        "id": "yW2zTalAhUwg",
        "outputId": "92f097b6-0f3d-48dc-b4af-feb88e735569"
      },
      "outputs": [
        {
          "data": {
            "text/html": [
              "<div>\n",
              "<style scoped>\n",
              "    .dataframe tbody tr th:only-of-type {\n",
              "        vertical-align: middle;\n",
              "    }\n",
              "\n",
              "    .dataframe tbody tr th {\n",
              "        vertical-align: top;\n",
              "    }\n",
              "\n",
              "    .dataframe thead th {\n",
              "        text-align: right;\n",
              "    }\n",
              "</style>\n",
              "<table border=\"1\" class=\"dataframe\">\n",
              "  <thead>\n",
              "    <tr style=\"text-align: right;\">\n",
              "      <th></th>\n",
              "      <th>title</th>\n",
              "      <th>text</th>\n",
              "      <th>subject</th>\n",
              "      <th>date</th>\n",
              "      <th>class</th>\n",
              "    </tr>\n",
              "  </thead>\n",
              "  <tbody>\n",
              "    <tr>\n",
              "      <th>0</th>\n",
              "      <td>Donald Trump Sends Out Embarrassing New Year’...</td>\n",
              "      <td>Donald Trump just couldn t wish all Americans ...</td>\n",
              "      <td>News</td>\n",
              "      <td>December 31, 2017</td>\n",
              "      <td>0</td>\n",
              "    </tr>\n",
              "    <tr>\n",
              "      <th>1</th>\n",
              "      <td>Drunk Bragging Trump Staffer Started Russian ...</td>\n",
              "      <td>House Intelligence Committee Chairman Devin Nu...</td>\n",
              "      <td>News</td>\n",
              "      <td>December 31, 2017</td>\n",
              "      <td>0</td>\n",
              "    </tr>\n",
              "    <tr>\n",
              "      <th>2</th>\n",
              "      <td>Sheriff David Clarke Becomes An Internet Joke...</td>\n",
              "      <td>On Friday, it was revealed that former Milwauk...</td>\n",
              "      <td>News</td>\n",
              "      <td>December 30, 2017</td>\n",
              "      <td>0</td>\n",
              "    </tr>\n",
              "    <tr>\n",
              "      <th>3</th>\n",
              "      <td>Trump Is So Obsessed He Even Has Obama’s Name...</td>\n",
              "      <td>On Christmas day, Donald Trump announced that ...</td>\n",
              "      <td>News</td>\n",
              "      <td>December 29, 2017</td>\n",
              "      <td>0</td>\n",
              "    </tr>\n",
              "    <tr>\n",
              "      <th>4</th>\n",
              "      <td>Pope Francis Just Called Out Donald Trump Dur...</td>\n",
              "      <td>Pope Francis used his annual Christmas Day mes...</td>\n",
              "      <td>News</td>\n",
              "      <td>December 25, 2017</td>\n",
              "      <td>0</td>\n",
              "    </tr>\n",
              "    <tr>\n",
              "      <th>5</th>\n",
              "      <td>Racist Alabama Cops Brutalize Black Boy While...</td>\n",
              "      <td>The number of cases of cops brutalizing and ki...</td>\n",
              "      <td>News</td>\n",
              "      <td>December 25, 2017</td>\n",
              "      <td>0</td>\n",
              "    </tr>\n",
              "    <tr>\n",
              "      <th>6</th>\n",
              "      <td>Fresh Off The Golf Course, Trump Lashes Out A...</td>\n",
              "      <td>Donald Trump spent a good portion of his day a...</td>\n",
              "      <td>News</td>\n",
              "      <td>December 23, 2017</td>\n",
              "      <td>0</td>\n",
              "    </tr>\n",
              "    <tr>\n",
              "      <th>7</th>\n",
              "      <td>Trump Said Some INSANELY Racist Stuff Inside ...</td>\n",
              "      <td>In the wake of yet another court decision that...</td>\n",
              "      <td>News</td>\n",
              "      <td>December 23, 2017</td>\n",
              "      <td>0</td>\n",
              "    </tr>\n",
              "    <tr>\n",
              "      <th>8</th>\n",
              "      <td>Former CIA Director Slams Trump Over UN Bully...</td>\n",
              "      <td>Many people have raised the alarm regarding th...</td>\n",
              "      <td>News</td>\n",
              "      <td>December 22, 2017</td>\n",
              "      <td>0</td>\n",
              "    </tr>\n",
              "    <tr>\n",
              "      <th>9</th>\n",
              "      <td>WATCH: Brand-New Pro-Trump Ad Features So Muc...</td>\n",
              "      <td>Just when you might have thought we d get a br...</td>\n",
              "      <td>News</td>\n",
              "      <td>December 21, 2017</td>\n",
              "      <td>0</td>\n",
              "    </tr>\n",
              "  </tbody>\n",
              "</table>\n",
              "</div>"
            ],
            "text/plain": [
              "                                               title  \\\n",
              "0   Donald Trump Sends Out Embarrassing New Year’...   \n",
              "1   Drunk Bragging Trump Staffer Started Russian ...   \n",
              "2   Sheriff David Clarke Becomes An Internet Joke...   \n",
              "3   Trump Is So Obsessed He Even Has Obama’s Name...   \n",
              "4   Pope Francis Just Called Out Donald Trump Dur...   \n",
              "5   Racist Alabama Cops Brutalize Black Boy While...   \n",
              "6   Fresh Off The Golf Course, Trump Lashes Out A...   \n",
              "7   Trump Said Some INSANELY Racist Stuff Inside ...   \n",
              "8   Former CIA Director Slams Trump Over UN Bully...   \n",
              "9   WATCH: Brand-New Pro-Trump Ad Features So Muc...   \n",
              "\n",
              "                                                text subject  \\\n",
              "0  Donald Trump just couldn t wish all Americans ...    News   \n",
              "1  House Intelligence Committee Chairman Devin Nu...    News   \n",
              "2  On Friday, it was revealed that former Milwauk...    News   \n",
              "3  On Christmas day, Donald Trump announced that ...    News   \n",
              "4  Pope Francis used his annual Christmas Day mes...    News   \n",
              "5  The number of cases of cops brutalizing and ki...    News   \n",
              "6  Donald Trump spent a good portion of his day a...    News   \n",
              "7  In the wake of yet another court decision that...    News   \n",
              "8  Many people have raised the alarm regarding th...    News   \n",
              "9  Just when you might have thought we d get a br...    News   \n",
              "\n",
              "                date  class  \n",
              "0  December 31, 2017      0  \n",
              "1  December 31, 2017      0  \n",
              "2  December 30, 2017      0  \n",
              "3  December 29, 2017      0  \n",
              "4  December 25, 2017      0  \n",
              "5  December 25, 2017      0  \n",
              "6  December 23, 2017      0  \n",
              "7  December 23, 2017      0  \n",
              "8  December 22, 2017      0  \n",
              "9  December 21, 2017      0  "
            ]
          },
          "execution_count": 18,
          "metadata": {},
          "output_type": "execute_result"
        }
      ],
      "source": [
        "merge = pd.concat([fake,true], axis=0)\n",
        "merge.head(10)"
      ]
    },
    {
      "cell_type": "code",
      "execution_count": 19,
      "metadata": {
        "colab": {
          "base_uri": "https://localhost:8080/"
        },
        "id": "l1V4PS-6hUwg",
        "outputId": "c5d7281b-8f18-4c87-f708-799457ab8ce3"
      },
      "outputs": [
        {
          "data": {
            "text/plain": [
              "Index(['title', 'text', 'subject', 'date', 'class'], dtype='object')"
            ]
          },
          "execution_count": 19,
          "metadata": {},
          "output_type": "execute_result"
        }
      ],
      "source": [
        "merge.columns"
      ]
    },
    {
      "cell_type": "code",
      "execution_count": 20,
      "metadata": {
        "colab": {
          "base_uri": "https://localhost:8080/",
          "height": 424
        },
        "id": "99J_LSrwhUwg",
        "outputId": "76af0d08-120e-47b1-c0a8-ee81fd3215b4"
      },
      "outputs": [
        {
          "data": {
            "text/html": [
              "<div>\n",
              "<style scoped>\n",
              "    .dataframe tbody tr th:only-of-type {\n",
              "        vertical-align: middle;\n",
              "    }\n",
              "\n",
              "    .dataframe tbody tr th {\n",
              "        vertical-align: top;\n",
              "    }\n",
              "\n",
              "    .dataframe thead th {\n",
              "        text-align: right;\n",
              "    }\n",
              "</style>\n",
              "<table border=\"1\" class=\"dataframe\">\n",
              "  <thead>\n",
              "    <tr style=\"text-align: right;\">\n",
              "      <th></th>\n",
              "      <th>title</th>\n",
              "      <th>text</th>\n",
              "      <th>subject</th>\n",
              "      <th>date</th>\n",
              "      <th>class</th>\n",
              "    </tr>\n",
              "  </thead>\n",
              "  <tbody>\n",
              "    <tr>\n",
              "      <th>0</th>\n",
              "      <td>False</td>\n",
              "      <td>False</td>\n",
              "      <td>False</td>\n",
              "      <td>False</td>\n",
              "      <td>False</td>\n",
              "    </tr>\n",
              "    <tr>\n",
              "      <th>1</th>\n",
              "      <td>False</td>\n",
              "      <td>False</td>\n",
              "      <td>False</td>\n",
              "      <td>False</td>\n",
              "      <td>False</td>\n",
              "    </tr>\n",
              "    <tr>\n",
              "      <th>2</th>\n",
              "      <td>False</td>\n",
              "      <td>False</td>\n",
              "      <td>False</td>\n",
              "      <td>False</td>\n",
              "      <td>False</td>\n",
              "    </tr>\n",
              "    <tr>\n",
              "      <th>3</th>\n",
              "      <td>False</td>\n",
              "      <td>False</td>\n",
              "      <td>False</td>\n",
              "      <td>False</td>\n",
              "      <td>False</td>\n",
              "    </tr>\n",
              "    <tr>\n",
              "      <th>4</th>\n",
              "      <td>False</td>\n",
              "      <td>False</td>\n",
              "      <td>False</td>\n",
              "      <td>False</td>\n",
              "      <td>False</td>\n",
              "    </tr>\n",
              "    <tr>\n",
              "      <th>...</th>\n",
              "      <td>...</td>\n",
              "      <td>...</td>\n",
              "      <td>...</td>\n",
              "      <td>...</td>\n",
              "      <td>...</td>\n",
              "    </tr>\n",
              "    <tr>\n",
              "      <th>21402</th>\n",
              "      <td>False</td>\n",
              "      <td>False</td>\n",
              "      <td>False</td>\n",
              "      <td>False</td>\n",
              "      <td>False</td>\n",
              "    </tr>\n",
              "    <tr>\n",
              "      <th>21403</th>\n",
              "      <td>False</td>\n",
              "      <td>False</td>\n",
              "      <td>False</td>\n",
              "      <td>False</td>\n",
              "      <td>False</td>\n",
              "    </tr>\n",
              "    <tr>\n",
              "      <th>21404</th>\n",
              "      <td>False</td>\n",
              "      <td>False</td>\n",
              "      <td>False</td>\n",
              "      <td>False</td>\n",
              "      <td>False</td>\n",
              "    </tr>\n",
              "    <tr>\n",
              "      <th>21405</th>\n",
              "      <td>False</td>\n",
              "      <td>False</td>\n",
              "      <td>False</td>\n",
              "      <td>False</td>\n",
              "      <td>False</td>\n",
              "    </tr>\n",
              "    <tr>\n",
              "      <th>21406</th>\n",
              "      <td>False</td>\n",
              "      <td>False</td>\n",
              "      <td>False</td>\n",
              "      <td>False</td>\n",
              "      <td>False</td>\n",
              "    </tr>\n",
              "  </tbody>\n",
              "</table>\n",
              "<p>44878 rows × 5 columns</p>\n",
              "</div>"
            ],
            "text/plain": [
              "       title   text  subject   date  class\n",
              "0      False  False    False  False  False\n",
              "1      False  False    False  False  False\n",
              "2      False  False    False  False  False\n",
              "3      False  False    False  False  False\n",
              "4      False  False    False  False  False\n",
              "...      ...    ...      ...    ...    ...\n",
              "21402  False  False    False  False  False\n",
              "21403  False  False    False  False  False\n",
              "21404  False  False    False  False  False\n",
              "21405  False  False    False  False  False\n",
              "21406  False  False    False  False  False\n",
              "\n",
              "[44878 rows x 5 columns]"
            ]
          },
          "execution_count": 20,
          "metadata": {},
          "output_type": "execute_result"
        }
      ],
      "source": [
        "merge.isnull()"
      ]
    },
    {
      "cell_type": "code",
      "execution_count": 21,
      "metadata": {
        "colab": {
          "base_uri": "https://localhost:8080/"
        },
        "id": "d_EKxUBJhUwh",
        "outputId": "876d16b3-64f3-42b9-f2a6-d1d3b3d3e476"
      },
      "outputs": [
        {
          "data": {
            "text/plain": [
              "title      0\n",
              "text       0\n",
              "subject    0\n",
              "date       0\n",
              "class      0\n",
              "dtype: int64"
            ]
          },
          "execution_count": 21,
          "metadata": {},
          "output_type": "execute_result"
        }
      ],
      "source": [
        "merge.isnull().sum()"
      ]
    },
    {
      "cell_type": "markdown",
      "metadata": {
        "id": "xLWcsf0whUwh"
      },
      "source": [
        "So the data has no null values"
      ]
    },
    {
      "cell_type": "markdown",
      "metadata": {
        "id": "lK0p-jzYhUwh"
      },
      "source": [
        "---"
      ]
    },
    {
      "cell_type": "markdown",
      "metadata": {
        "id": "EXabJ64zhUwh"
      },
      "source": [
        "<h3>Pie Chart</h3>"
      ]
    },
    {
      "cell_type": "code",
      "execution_count": 22,
      "metadata": {
        "colab": {
          "base_uri": "https://localhost:8080/",
          "height": 429
        },
        "id": "98Gk2c8FhUwh",
        "outputId": "033417ba-8483-43d5-e88a-5c9cd7a07161"
      },
      "outputs": [
        {
          "data": {
            "image/png": "[encoded data removed]",
            "text/plain": [
              "<Figure size 1000x700 with 1 Axes>"
            ]
          },
          "metadata": {},
          "output_type": "display_data"
        }
      ],
      "source": [
        "num_fake = fake['class'].count()\n",
        "num_true = true['class'].count()\n",
        "data = [num_fake, num_true]\n",
        "\n",
        "#creating pie chart\n",
        "pie = plt.figure(figsize=(10,7))\n",
        "plt.pie(data, labels = ['Fake', 'True'], explode=[0.0, 0.2], colors=['purple', 'cyan'], autopct='%1.1f%%', shadow=True, startangle=180)\n",
        "plt.axis('equal')\n",
        "pie.legend(data,\n",
        "          title =\"News type\",\n",
        "          loc =\"center left\",\n",
        "          )\n",
        "plt.title(\"Fake vs True news\")\n",
        "plt.show()"
      ]
    },
    {
      "cell_type": "markdown",
      "metadata": {
        "id": "AhKmIi19hUwi"
      },
      "source": [
        "Now we want to make a histogram of the date but the data is not \n",
        "in a proper format date is December 31, 2017\n",
        "we want to make a method to turn that object into a string\n",
        "and remove unnecessary characters plus the month"
      ]
    },
    {
      "cell_type": "code",
      "execution_count": 23,
      "metadata": {
        "colab": {
          "base_uri": "https://localhost:8080/"
        },
        "id": "LozCqaXthUwi",
        "outputId": "b3a486f3-d26a-4d56-d369-969e4723d4ba"
      },
      "outputs": [
        {
          "data": {
            "text/plain": [
              "0    December 31, 2017\n",
              "Name: date, dtype: object"
            ]
          },
          "execution_count": 23,
          "metadata": {},
          "output_type": "execute_result"
        }
      ],
      "source": [
        "fake.head(1)['date']"
      ]
    },
    {
      "cell_type": "code",
      "execution_count": 24,
      "metadata": {
        "id": "vtIKRqT2hUwi"
      },
      "outputs": [],
      "source": [
        "example=fake.head(1)\n",
        "example1=example['date']\n",
        "type(example1)\n",
        "string_example = str(example1)"
      ]
    },
    {
      "cell_type": "code",
      "execution_count": 25,
      "metadata": {
        "colab": {
          "base_uri": "https://localhost:8080/",
          "height": 35
        },
        "id": "KnD3Vl09hUwi",
        "outputId": "51e2d529-bbe6-4212-fccc-237a86b41c0d"
      },
      "outputs": [
        {
          "data": {
            "text/plain": [
              "'0312017'"
            ]
          },
          "execution_count": 25,
          "metadata": {},
          "output_type": "execute_result"
        }
      ],
      "source": [
        "import re\n",
        "filter_example=re.sub(r'[^\\d]+','',string_example)\n",
        "filter_example"
      ]
    },
    {
      "cell_type": "code",
      "execution_count": 26,
      "metadata": {
        "colab": {
          "base_uri": "https://localhost:8080/",
          "height": 35
        },
        "id": "NOMgpEp4hUwi",
        "outputId": "c3406fdc-14f4-4971-c5d8-c86173552611"
      },
      "outputs": [
        {
          "data": {
            "text/plain": [
              "'2017'"
            ]
          },
          "execution_count": 26,
          "metadata": {},
          "output_type": "execute_result"
        }
      ],
      "source": [
        "new_str=''\n",
        "\n",
        "for i in range(len(filter_example)):\n",
        "    if i >= 3:\n",
        "        new_str += filter_example[i]\n",
        "new_str"
      ]
    },
    {
      "cell_type": "code",
      "execution_count": 27,
      "metadata": {
        "id": "A5cf1CcFhUwi"
      },
      "outputs": [],
      "source": [
        "import re\n",
        "\n",
        "def filter_date(df):\n",
        "    #create empty array\n",
        "    empty_array=[]\n",
        "    empty_str=''\n",
        "    for i in range(20):\n",
        "        df_iter = df.head(i) #get only the index i of df\n",
        "        date=df_iter['date'] #get only the date\n",
        "        str_date = str(date) #convert to date string\n",
        "        filter_date=re.sub(r'[^\\d]+','',str_date) #subtract spaces and other characters\n",
        "        \n",
        "        #filter_date = 0312017, we want to get only 2017 as a sting\n",
        "        \n",
        "        for i in range(len(filter_date)):\n",
        "            if i>= 3 : #if index is greater than 3\n",
        "                empty_str += filter_date[i] #add characters to empty string\n",
        "                if len(empty_str) == 4:\n",
        "                    empty_array += empty_str #add string to array\n",
        "    return(empty_array)\n"
      ]
    },
    {
      "cell_type": "code",
      "execution_count": 28,
      "metadata": {
        "colab": {
          "base_uri": "https://localhost:8080/",
          "height": 35
        },
        "id": "qcJwHEwYhUwj",
        "outputId": "f60cce54-afac-427d-9f38-d6ae2e33b95e"
      },
      "outputs": [
        {
          "data": {
            "text/plain": [
              "'filter = filter_date(fake)\\nfilter'"
            ]
          },
          "execution_count": 28,
          "metadata": {},
          "output_type": "execute_result"
        }
      ],
      "source": [
        "'''filter = filter_date(fake)\n",
        "filter'''"
      ]
    },
    {
      "cell_type": "code",
      "execution_count": 29,
      "metadata": {
        "id": "5xKNDmbJhUwj"
      },
      "outputs": [],
      "source": [
        "true['category'] = 1"
      ]
    },
    {
      "cell_type": "code",
      "execution_count": 30,
      "metadata": {
        "id": "TDja-uxAhUwj"
      },
      "outputs": [],
      "source": [
        "fake['category'] = 0"
      ]
    },
    {
      "cell_type": "code",
      "execution_count": 31,
      "metadata": {
        "id": "hJRJCyI2hUwj"
      },
      "outputs": [],
      "source": [
        "merged_temp = pd.concat([true,fake],axis=0)"
      ]
    },
    {
      "cell_type": "markdown",
      "metadata": {
        "id": "dvNZ_WXRhUwj"
      },
      "source": [
        "Balance of True vs Fake news"
      ]
    },
    {
      "cell_type": "code",
      "execution_count": 32,
      "metadata": {
        "colab": {
          "base_uri": "https://localhost:8080/",
          "height": 296
        },
        "id": "9j7-Bx5phUwj",
        "outputId": "da87bb68-7efb-42b9-9815-bc9d0870da1a"
      },
      "outputs": [
        {
          "data": {
            "text/plain": [
              "<AxesSubplot:xlabel='category', ylabel='count'>"
            ]
          },
          "execution_count": 32,
          "metadata": {},
          "output_type": "execute_result"
        },
        {
          "data": {
            "image/png": "[encoded data removed]",
            "text/plain": [
              "<Figure size 640x480 with 1 Axes>"
            ]
          },
          "metadata": {},
          "output_type": "display_data"
        }
      ],
      "source": [
        "sns.set_style(\"darkgrid\")\n",
        "sns.countplot(merged_temp.category)"
      ]
    },
    {
      "cell_type": "code",
      "execution_count": 33,
      "metadata": {
        "colab": {
          "base_uri": "https://localhost:8080/",
          "height": 629
        },
        "id": "XKveXMONhUwj",
        "outputId": "69139bea-e19e-441b-872f-c489ca6ee285"
      },
      "outputs": [
        {
          "data": {
            "text/plain": [
              "<AxesSubplot:xlabel='subject', ylabel='count'>"
            ]
          },
          "execution_count": 33,
          "metadata": {},
          "output_type": "execute_result"
        },
        {
          "data": {
            "image/png": "[encoded data removed]",
            "text/plain": [
              "<Figure size 1000x1000 with 1 Axes>"
            ]
          },
          "metadata": {},
          "output_type": "display_data"
        }
      ],
      "source": [
        "sns.set_style(\"darkgrid\")\n",
        "sns.set(rc={\"figure.figsize\":(10, 10)})\n",
        "sns.countplot(merge.subject)"
      ]
    },
    {
      "cell_type": "markdown",
      "metadata": {
        "id": "18LYislNhUwk"
      },
      "source": [
        "Countplot news count based on the topic"
      ]
    },
    {
      "cell_type": "code",
      "execution_count": 34,
      "metadata": {
        "colab": {
          "base_uri": "https://localhost:8080/",
          "height": 755
        },
        "id": "NwHkLJbAhUwk",
        "outputId": "64305501-26de-4dc3-fef7-45c9e15f0bbd"
      },
      "outputs": [
        {
          "data": {
            "text/plain": [
              "[Text(0, 0, 'politicsNews'),\n",
              " Text(1, 0, 'worldnews'),\n",
              " Text(2, 0, 'News'),\n",
              " Text(3, 0, 'politics'),\n",
              " Text(4, 0, 'Government News'),\n",
              " Text(5, 0, 'left-news'),\n",
              " Text(6, 0, 'US_News'),\n",
              " Text(7, 0, 'Middle-east')]"
            ]
          },
          "execution_count": 34,
          "metadata": {},
          "output_type": "execute_result"
        },
        {
          "data": {
            "image/png": "[encoded data removed]",
            "text/plain": [
              "<Figure size 1200x800 with 1 Axes>"
            ]
          },
          "metadata": {},
          "output_type": "display_data"
        }
      ],
      "source": [
        "plt.figure(figsize = (12,8))\n",
        "sns.set(style = \"whitegrid\",font_scale = 1.2)\n",
        "chart = sns.countplot(x = \"subject\", hue = \"subject\" , data = merged_temp)\n",
        "chart.set_xticklabels(chart.get_xticklabels(),rotation=90)"
      ]
    },
    {
      "cell_type": "markdown",
      "metadata": {
        "id": "jVrgJfNwhUwk"
      },
      "source": [
        "Histogram <- Number of Words in fake and Trusted news"
      ]
    },
    {
      "cell_type": "code",
      "execution_count": 35,
      "metadata": {
        "colab": {
          "base_uri": "https://localhost:8080/",
          "height": 546
        },
        "id": "6EGAjPtchUwk",
        "outputId": "0260041e-bac2-4dd5-d41a-64456e662170"
      },
      "outputs": [
        {
          "data": {
            "image/png": "[encoded data removed]",
            "text/plain": [
              "<Figure size 1200x800 with 2 Axes>"
            ]
          },
          "metadata": {},
          "output_type": "display_data"
        }
      ],
      "source": [
        "fig,(ax1,ax2)=plt.subplots(1,2,figsize=(12,8))\n",
        "text_len=merged_temp[merged_temp['category']==1]['text'].str.split().map(lambda x: len(x))\n",
        "ax1.hist(text_len,color='purple')\n",
        "ax1.set_title('Trusted')\n",
        "\n",
        "\n",
        "text_len=merged_temp[merged_temp['category']==0]['text'].str.split().map(lambda x: len(x))\n",
        "ax2.hist(text_len,color='cyan')\n",
        "ax2.set_title('Fake')\n",
        "fig.suptitle('Number of words in Fake and True news')\n",
        "plt.show()"
      ]
    },
    {
      "cell_type": "markdown",
      "metadata": {
        "id": "BI_qc5WBhUwk"
      },
      "source": [
        "Most used words in fake news"
      ]
    },
    {
      "cell_type": "code",
      "execution_count": 36,
      "metadata": {
        "colab": {
          "base_uri": "https://localhost:8080/"
        },
        "id": "-oBT2s61hUwk",
        "outputId": "c6e46a8b-186f-462a-a76b-6161b66292ef"
      },
      "outputs": [
        {
          "data": {
            "text/plain": [
              "['Donald', 'Trump', 'just', 'couldn', 't']"
            ]
          },
          "execution_count": 36,
          "metadata": {},
          "output_type": "execute_result"
        }
      ],
      "source": [
        "def get_corpus(text):\n",
        "    words = []\n",
        "    for i in text:\n",
        "        for j in i.split():\n",
        "            words.append(j.strip())\n",
        "    return words\n",
        "corpus = get_corpus(fake.text)\n",
        "corpus[:5]"
      ]
    },
    {
      "cell_type": "code",
      "execution_count": 37,
      "metadata": {
        "colab": {
          "base_uri": "https://localhost:8080/"
        },
        "id": "3PmKoOA3hUwl",
        "outputId": "ad9a3ca8-0490-49d6-eb78-917f757f83c0"
      },
      "outputs": [
        {
          "data": {
            "text/plain": [
              "{'the': 482649, 'to': 285736, 'of': 232914, 'and': 212720, 'a': 202709}"
            ]
          },
          "execution_count": 37,
          "metadata": {},
          "output_type": "execute_result"
        }
      ],
      "source": [
        "from collections import Counter\n",
        "\n",
        "counter = Counter(corpus)\n",
        "most_common = counter.most_common(5)\n",
        "most_common = dict(most_common)\n",
        "most_common"
      ]
    },
    {
      "cell_type": "code",
      "execution_count": 38,
      "metadata": {
        "colab": {
          "base_uri": "https://localhost:8080/"
        },
        "id": "57j3NDryhUwl",
        "outputId": "34392540-d622-4d56-f52a-40626acfd328"
      },
      "outputs": [
        {
          "data": {
            "text/plain": [
              "['the', 'to', 'of', 'and', 'a']"
            ]
          },
          "execution_count": 38,
          "metadata": {},
          "output_type": "execute_result"
        }
      ],
      "source": [
        "list(most_common.keys())"
      ]
    },
    {
      "cell_type": "code",
      "execution_count": 39,
      "metadata": {
        "colab": {
          "base_uri": "https://localhost:8080/"
        },
        "id": "xZDeU0bGhUwl",
        "outputId": "4b785a9a-ef47-4056-ac52-387245505838"
      },
      "outputs": [
        {
          "data": {
            "text/plain": [
              "[482649, 285736, 232914, 212720, 202709]"
            ]
          },
          "execution_count": 39,
          "metadata": {},
          "output_type": "execute_result"
        }
      ],
      "source": [
        "list(most_common.values())"
      ]
    },
    {
      "cell_type": "code",
      "execution_count": 40,
      "metadata": {
        "colab": {
          "base_uri": "https://localhost:8080/",
          "height": 428
        },
        "id": "XhZATV33hUwl",
        "outputId": "dcfccb32-66b7-45c9-de02-913172f6aa12"
      },
      "outputs": [
        {
          "data": {
            "image/png": "[encoded data removed]",
            "text/plain": [
              "<Figure size 1000x700 with 1 Axes>"
            ]
          },
          "metadata": {},
          "output_type": "display_data"
        }
      ],
      "source": [
        "#creating pie chart\n",
        "most_common_data = list(most_common.values())\n",
        "\n",
        "pie = plt.figure(figsize=(10,7))\n",
        "color = ['purple', 'cyan', 'darkgreen', 'gold', 'darkred']\n",
        "plt.pie(most_common_data, labels = ['the', 'to', 'of', 'and', 'a'], explode=[0.0, 0.0, 0.2, 0.4, 0.7], colors=color, autopct='%1.1f%%', shadow=True, startangle=180)\n",
        "plt.axis('equal')\n",
        "pie.legend(list(most_common.keys()),\n",
        "          title =\"most common used words\",\n",
        "          loc =\"center left\",\n",
        "          )\n",
        "plt.title(\"most common used words\")\n",
        "plt.show()"
      ]
    },
    {
      "cell_type": "code",
      "execution_count": 41,
      "metadata": {
        "id": "BC9lpD0MhUwm"
      },
      "outputs": [],
      "source": [
        "merge_d = merge.drop(['title', 'subject', 'date'], axis=1)"
      ]
    },
    {
      "cell_type": "markdown",
      "metadata": {
        "id": "Sqme3FcghUwm"
      },
      "source": [
        "<h3>Cleaning and analysis</h3>"
      ]
    },
    {
      "cell_type": "code",
      "execution_count": 42,
      "metadata": {
        "colab": {
          "base_uri": "https://localhost:8080/",
          "height": 424
        },
        "id": "DzmAEHTShUwm",
        "outputId": "23892912-f313-47f0-e7da-a42b1f7b10f4"
      },
      "outputs": [
        {
          "data": {
            "text/html": [
              "<div>\n",
              "<style scoped>\n",
              "    .dataframe tbody tr th:only-of-type {\n",
              "        vertical-align: middle;\n",
              "    }\n",
              "\n",
              "    .dataframe tbody tr th {\n",
              "        vertical-align: top;\n",
              "    }\n",
              "\n",
              "    .dataframe thead th {\n",
              "        text-align: right;\n",
              "    }\n",
              "</style>\n",
              "<table border=\"1\" class=\"dataframe\">\n",
              "  <thead>\n",
              "    <tr style=\"text-align: right;\">\n",
              "      <th></th>\n",
              "      <th>text</th>\n",
              "      <th>class</th>\n",
              "    </tr>\n",
              "  </thead>\n",
              "  <tbody>\n",
              "    <tr>\n",
              "      <th>0</th>\n",
              "      <td>False</td>\n",
              "      <td>False</td>\n",
              "    </tr>\n",
              "    <tr>\n",
              "      <th>1</th>\n",
              "      <td>False</td>\n",
              "      <td>False</td>\n",
              "    </tr>\n",
              "    <tr>\n",
              "      <th>2</th>\n",
              "      <td>False</td>\n",
              "      <td>False</td>\n",
              "    </tr>\n",
              "    <tr>\n",
              "      <th>3</th>\n",
              "      <td>False</td>\n",
              "      <td>False</td>\n",
              "    </tr>\n",
              "    <tr>\n",
              "      <th>4</th>\n",
              "      <td>False</td>\n",
              "      <td>False</td>\n",
              "    </tr>\n",
              "    <tr>\n",
              "      <th>...</th>\n",
              "      <td>...</td>\n",
              "      <td>...</td>\n",
              "    </tr>\n",
              "    <tr>\n",
              "      <th>21402</th>\n",
              "      <td>False</td>\n",
              "      <td>False</td>\n",
              "    </tr>\n",
              "    <tr>\n",
              "      <th>21403</th>\n",
              "      <td>False</td>\n",
              "      <td>False</td>\n",
              "    </tr>\n",
              "    <tr>\n",
              "      <th>21404</th>\n",
              "      <td>False</td>\n",
              "      <td>False</td>\n",
              "    </tr>\n",
              "    <tr>\n",
              "      <th>21405</th>\n",
              "      <td>False</td>\n",
              "      <td>False</td>\n",
              "    </tr>\n",
              "    <tr>\n",
              "      <th>21406</th>\n",
              "      <td>False</td>\n",
              "      <td>False</td>\n",
              "    </tr>\n",
              "  </tbody>\n",
              "</table>\n",
              "<p>44878 rows × 2 columns</p>\n",
              "</div>"
            ],
            "text/plain": [
              "        text  class\n",
              "0      False  False\n",
              "1      False  False\n",
              "2      False  False\n",
              "3      False  False\n",
              "4      False  False\n",
              "...      ...    ...\n",
              "21402  False  False\n",
              "21403  False  False\n",
              "21404  False  False\n",
              "21405  False  False\n",
              "21406  False  False\n",
              "\n",
              "[44878 rows x 2 columns]"
            ]
          },
          "execution_count": 42,
          "metadata": {},
          "output_type": "execute_result"
        }
      ],
      "source": [
        "merge_d.isnull()"
      ]
    },
    {
      "cell_type": "code",
      "execution_count": 43,
      "metadata": {
        "colab": {
          "base_uri": "https://localhost:8080/"
        },
        "id": "MVtkd4bPhUwm",
        "outputId": "c6ea496e-a986-4124-c5b2-5117d7661b0f"
      },
      "outputs": [
        {
          "data": {
            "text/plain": [
              "text     0\n",
              "class    0\n",
              "dtype: int64"
            ]
          },
          "execution_count": 43,
          "metadata": {},
          "output_type": "execute_result"
        }
      ],
      "source": [
        "merge_d.isnull().sum()"
      ]
    },
    {
      "cell_type": "code",
      "execution_count": 44,
      "metadata": {
        "colab": {
          "base_uri": "https://localhost:8080/",
          "height": 206
        },
        "id": "QR02TzZRhUwm",
        "outputId": "cbdf3f25-bc75-4a78-d1fe-32a35836774a"
      },
      "outputs": [
        {
          "data": {
            "text/html": [
              "<div>\n",
              "<style scoped>\n",
              "    .dataframe tbody tr th:only-of-type {\n",
              "        vertical-align: middle;\n",
              "    }\n",
              "\n",
              "    .dataframe tbody tr th {\n",
              "        vertical-align: top;\n",
              "    }\n",
              "\n",
              "    .dataframe thead th {\n",
              "        text-align: right;\n",
              "    }\n",
              "</style>\n",
              "<table border=\"1\" class=\"dataframe\">\n",
              "  <thead>\n",
              "    <tr style=\"text-align: right;\">\n",
              "      <th></th>\n",
              "      <th>text</th>\n",
              "      <th>class</th>\n",
              "    </tr>\n",
              "  </thead>\n",
              "  <tbody>\n",
              "    <tr>\n",
              "      <th>6948</th>\n",
              "      <td>Supporting Donald Trump was a senile move too ...</td>\n",
              "      <td>0</td>\n",
              "    </tr>\n",
              "    <tr>\n",
              "      <th>21252</th>\n",
              "      <td>But wait If WMD s have been banned by the inte...</td>\n",
              "      <td>0</td>\n",
              "    </tr>\n",
              "    <tr>\n",
              "      <th>9476</th>\n",
              "      <td>WASHINGTON (Reuters) - The U.S. House of Repre...</td>\n",
              "      <td>1</td>\n",
              "    </tr>\n",
              "    <tr>\n",
              "      <th>18278</th>\n",
              "      <td>The mainstream media will never show you both ...</td>\n",
              "      <td>0</td>\n",
              "    </tr>\n",
              "    <tr>\n",
              "      <th>19470</th>\n",
              "      <td>MOSCOW (Reuters) - Saudi Arabia s King Salman ...</td>\n",
              "      <td>1</td>\n",
              "    </tr>\n",
              "  </tbody>\n",
              "</table>\n",
              "</div>"
            ],
            "text/plain": [
              "                                                    text  class\n",
              "6948   Supporting Donald Trump was a senile move too ...      0\n",
              "21252  But wait If WMD s have been banned by the inte...      0\n",
              "9476   WASHINGTON (Reuters) - The U.S. House of Repre...      1\n",
              "18278  The mainstream media will never show you both ...      0\n",
              "19470  MOSCOW (Reuters) - Saudi Arabia s King Salman ...      1"
            ]
          },
          "execution_count": 44,
          "metadata": {},
          "output_type": "execute_result"
        }
      ],
      "source": [
        "merge_d = merge_d.sample(frac=1)\n",
        "merge_d.head()"
      ]
    },
    {
      "cell_type": "code",
      "execution_count": 45,
      "metadata": {
        "colab": {
          "base_uri": "https://localhost:8080/"
        },
        "id": "Jm03JqgehUwm",
        "outputId": "592bf822-a10a-43f4-d080-95bdc60a6299"
      },
      "outputs": [
        {
          "data": {
            "text/plain": [
              "Index(['text', 'class'], dtype='object')"
            ]
          },
          "execution_count": 45,
          "metadata": {},
          "output_type": "execute_result"
        }
      ],
      "source": [
        "merge_d.reset_index(inplace=True)\n",
        "merge_d.drop(['index'], axis=1, inplace=True)\n",
        "merge_d.columns"
      ]
    },
    {
      "cell_type": "code",
      "execution_count": 46,
      "metadata": {
        "colab": {
          "base_uri": "https://localhost:8080/",
          "height": 206
        },
        "id": "Yqwa0MyshUwn",
        "outputId": "f0163993-2f5f-46c2-dd47-46f86922fd75"
      },
      "outputs": [
        {
          "data": {
            "text/html": [
              "<div>\n",
              "<style scoped>\n",
              "    .dataframe tbody tr th:only-of-type {\n",
              "        vertical-align: middle;\n",
              "    }\n",
              "\n",
              "    .dataframe tbody tr th {\n",
              "        vertical-align: top;\n",
              "    }\n",
              "\n",
              "    .dataframe thead th {\n",
              "        text-align: right;\n",
              "    }\n",
              "</style>\n",
              "<table border=\"1\" class=\"dataframe\">\n",
              "  <thead>\n",
              "    <tr style=\"text-align: right;\">\n",
              "      <th></th>\n",
              "      <th>text</th>\n",
              "      <th>class</th>\n",
              "    </tr>\n",
              "  </thead>\n",
              "  <tbody>\n",
              "    <tr>\n",
              "      <th>0</th>\n",
              "      <td>Supporting Donald Trump was a senile move too ...</td>\n",
              "      <td>0</td>\n",
              "    </tr>\n",
              "    <tr>\n",
              "      <th>1</th>\n",
              "      <td>But wait If WMD s have been banned by the inte...</td>\n",
              "      <td>0</td>\n",
              "    </tr>\n",
              "    <tr>\n",
              "      <th>2</th>\n",
              "      <td>WASHINGTON (Reuters) - The U.S. House of Repre...</td>\n",
              "      <td>1</td>\n",
              "    </tr>\n",
              "    <tr>\n",
              "      <th>3</th>\n",
              "      <td>The mainstream media will never show you both ...</td>\n",
              "      <td>0</td>\n",
              "    </tr>\n",
              "    <tr>\n",
              "      <th>4</th>\n",
              "      <td>MOSCOW (Reuters) - Saudi Arabia s King Salman ...</td>\n",
              "      <td>1</td>\n",
              "    </tr>\n",
              "  </tbody>\n",
              "</table>\n",
              "</div>"
            ],
            "text/plain": [
              "                                                text  class\n",
              "0  Supporting Donald Trump was a senile move too ...      0\n",
              "1  But wait If WMD s have been banned by the inte...      0\n",
              "2  WASHINGTON (Reuters) - The U.S. House of Repre...      1\n",
              "3  The mainstream media will never show you both ...      0\n",
              "4  MOSCOW (Reuters) - Saudi Arabia s King Salman ...      1"
            ]
          },
          "execution_count": 46,
          "metadata": {},
          "output_type": "execute_result"
        }
      ],
      "source": [
        "merge_d.head()"
      ]
    },
    {
      "cell_type": "markdown",
      "metadata": {
        "id": "6cnIdEqyhUwn"
      },
      "source": [
        "---"
      ]
    },
    {
      "cell_type": "markdown",
      "metadata": {
        "id": "wlCO8jhEhUwn"
      },
      "source": [
        "Creating function to process text"
      ]
    },
    {
      "cell_type": "code",
      "execution_count": 47,
      "metadata": {
        "id": "Iqo5TrqlhUwn"
      },
      "outputs": [],
      "source": [
        "def wordopt(text):\n",
        "    text = text.lower()\n",
        "    text=re.sub('\\[.*\\]', '', text) # remove spaces and process text\n",
        "    text = re.sub(\"\\\\W\",\" \",text) \n",
        "    text = re.sub('https?://\\S+|www\\.\\S+', '', text)\n",
        "    text = re.sub('<.*?>+', '', text)\n",
        "    text = re.sub('[%s]' % re.escape(string.punctuation), '', text)\n",
        "    text = re.sub('\\n', '', text)\n",
        "    text = re.sub('\\w*\\d\\w*', '', text)    \n",
        "    return text"
      ]
    },
    {
      "cell_type": "code",
      "execution_count": 48,
      "metadata": {
        "id": "ox1EwodxhUwn"
      },
      "outputs": [],
      "source": [
        "merge_d['text'] = merge_d['text'].apply(wordopt)"
      ]
    },
    {
      "cell_type": "markdown",
      "metadata": {
        "id": "4pNMtxIehUwn"
      },
      "source": [
        "Define dependent and independent variables"
      ]
    },
    {
      "cell_type": "code",
      "execution_count": 49,
      "metadata": {
        "id": "r3-a25m0hUwn"
      },
      "outputs": [],
      "source": [
        "x = merge_d[\"text\"]\n",
        "y = merge_d[\"class\"]"
      ]
    },
    {
      "cell_type": "markdown",
      "metadata": {
        "id": "ohBkV6l9hUwo"
      },
      "source": [
        "<a id=\"13\"></a>\n",
        "<h3 style='background:purple; border:0; color:white;'><center>Training & Model</center></h3>"
      ]
    },
    {
      "cell_type": "code",
      "execution_count": 50,
      "metadata": {
        "id": "RdtFi6RmhUwo"
      },
      "outputs": [],
      "source": [
        "x_train, x_test, y_train, y_test = train_test_split(x, y, test_size=0.25)"
      ]
    },
    {
      "cell_type": "code",
      "execution_count": 51,
      "metadata": {
        "id": "Xp-hlcHVhUwo"
      },
      "outputs": [],
      "source": [
        "from sklearn.feature_extraction.text import TfidfVectorizer\n",
        "\n",
        "vectorization = TfidfVectorizer()\n",
        "xx_train = vectorization.fit_transform(x_train)\n",
        "xx_test = vectorization.transform(x_test)"
      ]
    },
    {
      "cell_type": "markdown",
      "metadata": {
        "id": "b3Y7xdQ9hUwo"
      },
      "source": [
        "<a id =14></a>\n",
        "<h3 style='color:crimson'><center>Logistic Regression</center></h3>"
      ]
    },
    {
      "cell_type": "code",
      "execution_count": 52,
      "metadata": {
        "colab": {
          "base_uri": "https://localhost:8080/"
        },
        "id": "ioOQDOlshUwo",
        "outputId": "4f761c46-acb3-435d-b8e8-0c3902ca5ee6"
      },
      "outputs": [
        {
          "data": {
            "text/plain": [
              "LogisticRegression()"
            ]
          },
          "execution_count": 52,
          "metadata": {},
          "output_type": "execute_result"
        }
      ],
      "source": [
        "from sklearn.linear_model import LogisticRegression\n",
        "\n",
        "logistic = LogisticRegression()\n",
        "logistic.fit(xx_train,y_train)"
      ]
    },
    {
      "cell_type": "code",
      "execution_count": 53,
      "metadata": {
        "id": "2SPFMmhhhUwo"
      },
      "outputs": [],
      "source": [
        "pred = logistic.predict(xx_test)#text"
      ]
    },
    {
      "cell_type": "markdown",
      "metadata": {
        "id": "qdGPJYw3hUwo"
      },
      "source": [
        "Testing Accuracy"
      ]
    },
    {
      "cell_type": "code",
      "execution_count": 54,
      "metadata": {
        "colab": {
          "base_uri": "https://localhost:8080/"
        },
        "id": "xTiEbeJahUwp",
        "outputId": "0013234b-ced9-4680-b622-02cedfb3f446"
      },
      "outputs": [
        {
          "name": "stdout",
          "output_type": "stream",
          "text": [
            "              precision    recall  f1-score   support\n",
            "\n",
            "           0       0.99      0.99      0.99      5797\n",
            "           1       0.99      0.99      0.99      5423\n",
            "\n",
            "    accuracy                           0.99     11220\n",
            "   macro avg       0.99      0.99      0.99     11220\n",
            "weighted avg       0.99      0.99      0.99     11220\n",
            "\n"
          ]
        }
      ],
      "source": [
        "print(classification_report(y_test, pred))"
      ]
    },
    {
      "cell_type": "markdown",
      "metadata": {
        "id": "KfMnQydbhUwp"
      },
      "source": [
        "<a id=15>\n",
        "<h3 style='color:crimson'><center>Decision Tree Classifier</center></h3>"
      ]
    },
    {
      "cell_type": "code",
      "execution_count": 55,
      "metadata": {
        "colab": {
          "base_uri": "https://localhost:8080/"
        },
        "id": "XfH_HyYChUwp",
        "outputId": "5d4b0c42-9e4f-4fb1-a1f4-c118df2896c7"
      },
      "outputs": [
        {
          "data": {
            "text/plain": [
              "DecisionTreeClassifier()"
            ]
          },
          "execution_count": 55,
          "metadata": {},
          "output_type": "execute_result"
        }
      ],
      "source": [
        "from sklearn.tree import DecisionTreeClassifier\n",
        "\n",
        "dtc = DecisionTreeClassifier()\n",
        "dtc.fit(xx_train, y_train)#model fit\n"
      ]
    },
    {
      "cell_type": "code",
      "execution_count": 56,
      "metadata": {
        "id": "blzDXzvohUwp"
      },
      "outputs": [],
      "source": [
        "pred_dtc=dtc.predict(xx_test)"
      ]
    },
    {
      "cell_type": "markdown",
      "metadata": {
        "id": "9t26tU6chUwp"
      },
      "source": [
        "Accuracy"
      ]
    },
    {
      "cell_type": "code",
      "execution_count": 57,
      "metadata": {
        "colab": {
          "base_uri": "https://localhost:8080/"
        },
        "id": "3jvy2O4RhUwp",
        "outputId": "4c9ab25e-b8f7-43dd-c980-e8445a355811"
      },
      "outputs": [
        {
          "data": {
            "text/plain": [
              "0.9950980392156863"
            ]
          },
          "execution_count": 57,
          "metadata": {},
          "output_type": "execute_result"
        }
      ],
      "source": [
        "dtc.score(xx_test, y_test)"
      ]
    },
    {
      "cell_type": "markdown",
      "metadata": {
        "id": "Ygo2mLm9hUwp"
      },
      "source": [
        "Classification report"
      ]
    },
    {
      "cell_type": "code",
      "execution_count": 58,
      "metadata": {
        "colab": {
          "base_uri": "https://localhost:8080/"
        },
        "id": "FaxZorV3hUwq",
        "outputId": "affe3acc-7c7e-4e1a-9b04-34b22f291882"
      },
      "outputs": [
        {
          "name": "stdout",
          "output_type": "stream",
          "text": [
            "              precision    recall  f1-score   support\n",
            "\n",
            "           0       0.99      1.00      1.00      5797\n",
            "           1       1.00      0.99      0.99      5423\n",
            "\n",
            "    accuracy                           1.00     11220\n",
            "   macro avg       1.00      1.00      1.00     11220\n",
            "weighted avg       1.00      1.00      1.00     11220\n",
            "\n"
          ]
        }
      ],
      "source": [
        "print(classification_report(y_test, pred_dtc))"
      ]
    },
    {
      "cell_type": "markdown",
      "metadata": {
        "id": "ajWP2XfIhUwq"
      },
      "source": [
        "<a id=16></a>\n",
        "<h3 style='color:crimson'><center>Gradient Boosting Classifier</center></h3>"
      ]
    },
    {
      "cell_type": "code",
      "execution_count": 59,
      "metadata": {
        "colab": {
          "base_uri": "https://localhost:8080/"
        },
        "id": "JkjLTeD6hUwq",
        "outputId": "9383793f-64ea-482c-b38a-9bbb9ce31938"
      },
      "outputs": [],
      "source": [
        "from sklearn.ensemble import GradientBoostingClassifier #GB builds an additive model in a forward stage-wise fashion; it allows for the optimization\n",
        "\n",
        "gbc = GradientBoostingClassifier(random_state=0)\n",
        "gbc.fit(xx_train, y_train)"
      ]
    },
    {
      "cell_type": "code",
      "execution_count": null,
      "metadata": {
        "id": "OuHG1OQMhUwq"
      },
      "outputs": [],
      "source": [
        "pred_gbc = gbc.predict(xx_test)"
      ]
    },
    {
      "cell_type": "code",
      "execution_count": null,
      "metadata": {
        "colab": {
          "base_uri": "https://localhost:8080/"
        },
        "id": "Oyk3EdtLhUwq",
        "outputId": "f6fcbfae-b1c7-415f-c4f8-ede91e360b80"
      },
      "outputs": [
        {
          "data": {
            "text/plain": [
              "0.9951871657754011"
            ]
          },
          "execution_count": 58,
          "metadata": {},
          "output_type": "execute_result"
        }
      ],
      "source": [
        "gbc.score(xx_test, y_test)"
      ]
    },
    {
      "cell_type": "code",
      "execution_count": null,
      "metadata": {
        "colab": {
          "base_uri": "https://localhost:8080/"
        },
        "id": "FEGYQGDThUwq",
        "outputId": "58329e33-11a0-4165-ea3d-28e58a62e2a9"
      },
      "outputs": [
        {
          "name": "stdout",
          "output_type": "stream",
          "text": [
            "              precision    recall  f1-score   support\n",
            "\n",
            "           0       1.00      0.99      1.00      5911\n",
            "           1       0.99      1.00      0.99      5309\n",
            "\n",
            "    accuracy                           1.00     11220\n",
            "   macro avg       1.00      1.00      1.00     11220\n",
            "weighted avg       1.00      1.00      1.00     11220\n",
            "\n"
          ]
        }
      ],
      "source": [
        "print(classification_report(y_test, pred_gbc))"
      ]
    },
    {
      "cell_type": "markdown",
      "metadata": {
        "id": "dUqjM6FUhUwq"
      },
      "source": [
        "<a id=17></a>\n",
        "<h3 style='color:crimson'><center>Random Forest Classifier</center></h3>"
      ]
    },
    {
      "cell_type": "code",
      "execution_count": null,
      "metadata": {
        "colab": {
          "base_uri": "https://localhost:8080/"
        },
        "id": "w6sIBffvhUwr",
        "outputId": "deaaedf4-122e-4ece-a924-76d8121a301e"
      },
      "outputs": [
        {
          "data": {
            "text/plain": [
              "RandomForestClassifier(random_state=0)"
            ]
          },
          "execution_count": 60,
          "metadata": {},
          "output_type": "execute_result"
        }
      ],
      "source": [
        "from sklearn.ensemble import RandomForestClassifier\n",
        "\n",
        "rfc = RandomForestClassifier(random_state=0)\n",
        "rfc.fit(xx_train, y_train)"
      ]
    },
    {
      "cell_type": "code",
      "execution_count": null,
      "metadata": {
        "id": "Lj34ruoPhUwr"
      },
      "outputs": [],
      "source": [
        "pred_rfc=rfc.predict(xx_test)\n"
      ]
    },
    {
      "cell_type": "code",
      "execution_count": null,
      "metadata": {
        "colab": {
          "base_uri": "https://localhost:8080/"
        },
        "id": "gp6d24v4hUwr",
        "outputId": "dedbb14e-303a-4f73-dc52-9cda0c8076bc"
      },
      "outputs": [
        {
          "data": {
            "text/plain": [
              "0.9914438502673797"
            ]
          },
          "execution_count": 62,
          "metadata": {},
          "output_type": "execute_result"
        }
      ],
      "source": [
        "rfc.score(xx_test, y_test)"
      ]
    },
    {
      "cell_type": "code",
      "execution_count": null,
      "metadata": {
        "colab": {
          "base_uri": "https://localhost:8080/"
        },
        "id": "7iGLnT6ghUwr",
        "outputId": "1db69148-c550-4a5e-a261-28256868571f"
      },
      "outputs": [
        {
          "name": "stdout",
          "output_type": "stream",
          "text": [
            "              precision    recall  f1-score   support\n",
            "\n",
            "           0       0.99      0.99      0.99      5911\n",
            "           1       0.99      0.99      0.99      5309\n",
            "\n",
            "    accuracy                           0.99     11220\n",
            "   macro avg       0.99      0.99      0.99     11220\n",
            "weighted avg       0.99      0.99      0.99     11220\n",
            "\n"
          ]
        }
      ],
      "source": [
        "print(classification_report(y_test, pred_rfc))"
      ]
    },
    {
      "cell_type": "code",
      "execution_count": null,
      "metadata": {
        "colab": {
          "base_uri": "https://localhost:8080/"
        },
        "id": "wJerXqHFhUwr",
        "outputId": "ab1da58a-bc37-4eee-83b5-bed588df5db6"
      },
      "outputs": [
        {
          "name": "stdout",
          "output_type": "stream",
          "text": [
            "[0.98484848 0.97771836 0.98217469 0.98128342 0.97860963 0.98217469\n",
            " 0.98217469 0.98128342 0.98039216 0.98752228]\n"
          ]
        }
      ],
      "source": [
        "from sklearn.model_selection import cross_val_score\n",
        "print(cross_val_score(rfc, xx_test, y_test, scoring='accuracy', cv=10))"
      ]
    },
    {
      "cell_type": "code",
      "execution_count": null,
      "metadata": {
        "colab": {
          "base_uri": "https://localhost:8080/"
        },
        "id": "7Ey_xtpohUwr",
        "outputId": "5f1a200d-d240-443e-eaab-558a201bf7c0"
      },
      "outputs": [
        {
          "name": "stdout",
          "output_type": "stream",
          "text": [
            "Accuracy:  0.9818181818181818\n"
          ]
        }
      ],
      "source": [
        "accuracy = cross_val_score(rfc, xx_test, y_test, scoring='accuracy', cv= 10).mean()\n",
        "print('Accuracy: ', accuracy)"
      ]
    },
    {
      "cell_type": "code",
      "execution_count": null,
      "metadata": {
        "id": "NWVzyj59paL_"
      },
      "outputs": [],
      "source": [
        "def manual_testing(news):\n",
        "    testing_news = {\"text\":[news]}\n",
        "    new_def_test = pd.DataFrame(testing_news)\n",
        "    new_def_test[\"text\"] = new_def_test[\"text\"].apply(wordopt) #apply text processing\n",
        "    new_x_test = new_def_test[\"text\"]\n",
        "    new_xv_test = vectorization.transform(new_x_test)\n",
        "\n",
        "    # Predict for all the models\n",
        "    pred_LR = logistic.predict(new_xv_test)\n",
        "    pred_DT = dtc.predict(new_xv_test)\n",
        "    pred_GBC = gbc.predict(new_xv_test)\n",
        "    pred_RFC = rfc.predict(new_xv_test)\n",
        "\n",
        "    #Sum gives 50% more vote to logistic Regression as it proved to be more accurate\n",
        "    sum = (pred_LR[0])*2 + (pred_DT[0] + pred_GBC[0] + pred_RFC[0])*0.5\n",
        "    #we take the average\n",
        "    average_pred = sum/4\n",
        "    #percentage of the average\n",
        "    average_percent = average_pred *100\n",
        "\n",
        "    #print all models predictions\n",
        "    return f'{average_percent}%'"
      ]
    },
    {
      "cell_type": "code",
      "execution_count": null,
      "metadata": {
        "id": "LrP7pvW8hc3y"
      },
      "outputs": [],
      "source": [
        "import gradio as gr"
      ]
    },
    {
      "cell_type": "code",
      "execution_count": null,
      "metadata": {
        "id": "SmQnjyxfhfmt"
      },
      "outputs": [],
      "source": [
        "ui = gr.Interface(fn=manual_testing, inputs = 'text', outputs='text')"
      ]
    },
    {
      "cell_type": "code",
      "execution_count": null,
      "metadata": {
        "colab": {
          "base_uri": "https://localhost:8080/",
          "height": 591
        },
        "id": "Y4r6R9jwo_M0",
        "outputId": "d47bb6c9-0bf4-4f86-d2e4-8c198190ada0"
      },
      "outputs": [
        {
          "name": "stdout",
          "output_type": "stream",
          "text": [
            "Running on local URL:  http://127.0.0.1:7860\n",
            "Running on public URL: https://a738e78b-48bb-4230.gradio.live\n",
            "\n",
            "This share link expires in 72 hours. For free permanent hosting and GPU upgrades (NEW!), check out Spaces: https://huggingface.co/spaces\n"
          ]
        },
        {
          "data": {
            "text/html": [
              "<div><iframe src=\"https://a738e78b-48bb-4230.gradio.live\" width=\"100%\" height=\"500\" allow=\"autoplay; camera; microphone; clipboard-read; clipboard-write;\" frameborder=\"0\" allowfullscreen></iframe></div>"
            ],
            "text/plain": [
              "<IPython.core.display.HTML object>"
            ]
          },
          "metadata": {},
          "output_type": "display_data"
        },
        {
          "data": {
            "text/plain": []
          },
          "execution_count": 70,
          "metadata": {},
          "output_type": "execute_result"
        }
      ],
      "source": [
        "ui.launch(share='True')"
      ]
    },
    {
      "attachments": {},
      "cell_type": "markdown",
      "metadata": {},
      "source": [
        "model drift\n",
        "data drift\n",
        "word correlation\n",
        "over-fitting\n",
        "zero shot learning\n",
        "few shot learning"
      ]
    }
  ],
  "metadata": {
    "colab": {
      "provenance": []
    },
    "kernelspec": {
      "display_name": "base",
      "language": "python",
      "name": "python3"
    },
    "language_info": {
      "codemirror_mode": {
        "name": "ipython",
        "version": 3
      },
      "file_extension": ".py",
      "mimetype": "text/x-python",
      "name": "python",
      "nbconvert_exporter": "python",
      "pygments_lexer": "ipython3",
      "version": "3.9.13"
    },
    "orig_nbformat": 4,
    "vscode": {
      "interpreter": {
        "hash": "33b7dcf1af7593dcbe11b53184571444bbfd145991092ea66f638d3a61b34e42"
      }
    }
  },
  "nbformat": 4,
  "nbformat_minor": 0
}
