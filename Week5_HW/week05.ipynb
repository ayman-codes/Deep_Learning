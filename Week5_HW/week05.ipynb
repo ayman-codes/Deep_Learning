{
 "cells": [
  {
   "cell_type": "code",
   "execution_count": 1,
   "metadata": {},
   "outputs": [
    {
     "data": {
      "text/html": [
       "<div>\n",
       "<style scoped>\n",
       "    .dataframe tbody tr th:only-of-type {\n",
       "        vertical-align: middle;\n",
       "    }\n",
       "\n",
       "    .dataframe tbody tr th {\n",
       "        vertical-align: top;\n",
       "    }\n",
       "\n",
       "    .dataframe thead th {\n",
       "        text-align: right;\n",
       "    }\n",
       "</style>\n",
       "<table border=\"1\" class=\"dataframe\">\n",
       "  <thead>\n",
       "    <tr style=\"text-align: right;\">\n",
       "      <th></th>\n",
       "      <th>PassengerId</th>\n",
       "      <th>Survived</th>\n",
       "      <th>Pclass</th>\n",
       "      <th>Name</th>\n",
       "      <th>Sex</th>\n",
       "      <th>Age</th>\n",
       "      <th>SibSp</th>\n",
       "      <th>Parch</th>\n",
       "      <th>Ticket</th>\n",
       "      <th>Fare</th>\n",
       "      <th>Cabin</th>\n",
       "      <th>Embarked</th>\n",
       "    </tr>\n",
       "  </thead>\n",
       "  <tbody>\n",
       "    <tr>\n",
       "      <th>0</th>\n",
       "      <td>1</td>\n",
       "      <td>0</td>\n",
       "      <td>3</td>\n",
       "      <td>Braund, Mr. Owen Harris</td>\n",
       "      <td>male</td>\n",
       "      <td>22.0</td>\n",
       "      <td>1</td>\n",
       "      <td>0</td>\n",
       "      <td>A/5 21171</td>\n",
       "      <td>7.2500</td>\n",
       "      <td>NaN</td>\n",
       "      <td>S</td>\n",
       "    </tr>\n",
       "    <tr>\n",
       "      <th>1</th>\n",
       "      <td>2</td>\n",
       "      <td>1</td>\n",
       "      <td>1</td>\n",
       "      <td>Cumings, Mrs. John Bradley (Florence Briggs Th...</td>\n",
       "      <td>female</td>\n",
       "      <td>38.0</td>\n",
       "      <td>1</td>\n",
       "      <td>0</td>\n",
       "      <td>PC 17599</td>\n",
       "      <td>71.2833</td>\n",
       "      <td>C85</td>\n",
       "      <td>C</td>\n",
       "    </tr>\n",
       "    <tr>\n",
       "      <th>2</th>\n",
       "      <td>3</td>\n",
       "      <td>1</td>\n",
       "      <td>3</td>\n",
       "      <td>Heikkinen, Miss. Laina</td>\n",
       "      <td>female</td>\n",
       "      <td>26.0</td>\n",
       "      <td>0</td>\n",
       "      <td>0</td>\n",
       "      <td>STON/O2. 3101282</td>\n",
       "      <td>7.9250</td>\n",
       "      <td>NaN</td>\n",
       "      <td>S</td>\n",
       "    </tr>\n",
       "    <tr>\n",
       "      <th>3</th>\n",
       "      <td>4</td>\n",
       "      <td>1</td>\n",
       "      <td>1</td>\n",
       "      <td>Futrelle, Mrs. Jacques Heath (Lily May Peel)</td>\n",
       "      <td>female</td>\n",
       "      <td>35.0</td>\n",
       "      <td>1</td>\n",
       "      <td>0</td>\n",
       "      <td>113803</td>\n",
       "      <td>53.1000</td>\n",
       "      <td>C123</td>\n",
       "      <td>S</td>\n",
       "    </tr>\n",
       "    <tr>\n",
       "      <th>4</th>\n",
       "      <td>5</td>\n",
       "      <td>0</td>\n",
       "      <td>3</td>\n",
       "      <td>Allen, Mr. William Henry</td>\n",
       "      <td>male</td>\n",
       "      <td>35.0</td>\n",
       "      <td>0</td>\n",
       "      <td>0</td>\n",
       "      <td>373450</td>\n",
       "      <td>8.0500</td>\n",
       "      <td>NaN</td>\n",
       "      <td>S</td>\n",
       "    </tr>\n",
       "  </tbody>\n",
       "</table>\n",
       "</div>"
      ],
      "text/plain": [
       "   PassengerId  Survived  Pclass  \\\n",
       "0            1         0       3   \n",
       "1            2         1       1   \n",
       "2            3         1       3   \n",
       "3            4         1       1   \n",
       "4            5         0       3   \n",
       "\n",
       "                                                Name     Sex   Age  SibSp  \\\n",
       "0                            Braund, Mr. Owen Harris    male  22.0      1   \n",
       "1  Cumings, Mrs. John Bradley (Florence Briggs Th...  female  38.0      1   \n",
       "2                             Heikkinen, Miss. Laina  female  26.0      0   \n",
       "3       Futrelle, Mrs. Jacques Heath (Lily May Peel)  female  35.0      1   \n",
       "4                           Allen, Mr. William Henry    male  35.0      0   \n",
       "\n",
       "   Parch            Ticket     Fare Cabin Embarked  \n",
       "0      0         A/5 21171   7.2500   NaN        S  \n",
       "1      0          PC 17599  71.2833   C85        C  \n",
       "2      0  STON/O2. 3101282   7.9250   NaN        S  \n",
       "3      0            113803  53.1000  C123        S  \n",
       "4      0            373450   8.0500   NaN        S  "
      ]
     },
     "execution_count": 1,
     "metadata": {},
     "output_type": "execute_result"
    }
   ],
   "source": [
    "%load_ext autoreload\n",
    "%autoreload 2\n",
    "\n",
    "import numpy as np\n",
    "import pandas as pd\n",
    "\n",
    "from neural_network import Network\n",
    "from activations import Tanh, Sigmoid, ReLU\n",
    "from layers import ActivationLayer, FCLayer\n",
    "from losses import MSE\n",
    "\n",
    "np.random.seed(7)\n",
    "\n",
    "feature_names = ['Sex', 'Age', 'SibSp', 'Pclass', 'Parch', 'Fare', 'Embarked']\n",
    "target_name = 'Survived'\n",
    "\n",
    "dataset = pd.read_csv(\"train.csv\")\n",
    "dataset.head()"
   ]
  },
  {
   "cell_type": "code",
   "execution_count": 2,
   "metadata": {},
   "outputs": [],
   "source": [
    "from sklearn.model_selection import train_test_split\n",
    "\n",
    "\n",
    "dataset = dataset[feature_names + [target_name]].dropna()\n",
    "\n",
    "X = dataset[feature_names]\n",
    "y = dataset[[target_name]]\n",
    "\n",
    "X_train, X_test, y_train, y_test = train_test_split(X, y, test_size=0.2, stratify=y, random_state=7)"
   ]
  },
  {
   "cell_type": "code",
   "execution_count": 3,
   "metadata": {},
   "outputs": [
    {
     "data": {
      "text/plain": [
       "((569, 7), (569, 1), (143, 7), (143, 1))"
      ]
     },
     "execution_count": 3,
     "metadata": {},
     "output_type": "execute_result"
    }
   ],
   "source": [
    "from sklearn.preprocessing import OrdinalEncoder, StandardScaler\n",
    "from sklearn.metrics import (\n",
    "    accuracy_score,\n",
    "    f1_score,\n",
    "    precision_score,\n",
    "    recall_score,\n",
    "    classification_report,\n",
    "    confusion_matrix,\n",
    "    ConfusionMatrixDisplay\n",
    "    )\n",
    "\n",
    "encoder = OrdinalEncoder()\n",
    "X_train['Sex'] = encoder.fit_transform(X_train[['Sex']])\n",
    "X_test['Sex'] = encoder.transform(X_test[['Sex']])\n",
    "\n",
    "encoder = OrdinalEncoder()\n",
    "X_train['Embarked'] = encoder.fit_transform(X_train[['Embarked']])\n",
    "X_test['Embarked'] = encoder.transform(X_test[['Embarked']])\n",
    "\n",
    "\n",
    "scaler = StandardScaler()\n",
    "X_train = X_train.values\n",
    "X_test = X_test.values\n",
    "X_train = scaler.fit_transform(X_train)\n",
    "X_test = scaler.transform(X_test) \n",
    "\n",
    "X_train.shape, y_train.shape, X_test.shape, y_test.shape"
   ]
  },
  {
   "cell_type": "code",
   "execution_count": 4,
   "metadata": {},
   "outputs": [
    {
     "data": {
      "text/plain": [
       "array([[-0.70710678,  1.33630621,  1.41421356,  1.33630621],\n",
       "       [ 1.41421356, -0.26726124, -0.70710678, -0.26726124],\n",
       "       [-0.70710678, -1.06904497, -0.70710678, -1.06904497]])"
      ]
     },
     "execution_count": 4,
     "metadata": {},
     "output_type": "execute_result"
    }
   ],
   "source": [
    "from sklearn.preprocessing import scale\n",
    "\n",
    "scale([[0, 50, 0.3, 5], [1, 30, 0.2, 3], [0, 20, 0.2, 2]])"
   ]
  },
  {
   "cell_type": "code",
   "execution_count": 5,
   "metadata": {},
   "outputs": [],
   "source": [
    "X_train = X_train.reshape((569, 1, 7))\n",
    "y_train = y_train.values.reshape((569, 1, 1))\n",
    "\n",
    "# Only for tanh\n",
    "# How would this encoding change if you use sigmoid in the last layer?\n",
    "y_train[y_train == 1] = 1\n",
    "y_train[y_train == 0] = -1\n",
    "\n",
    "\n",
    "X_test = X_test.reshape((143, 1, 7))\n",
    "y_test = y_test.values.reshape((143, 1, 1))\n",
    "\n",
    "# Only for tanh\n",
    "# How would this encoding change if you use sigmoid in the last layer?\n",
    "y_test[y_test == 1] = 1\n",
    "y_test[y_test == 0] = -1"
   ]
  },
  {
   "cell_type": "code",
   "execution_count": 6,
   "metadata": {},
   "outputs": [
    {
     "name": "stderr",
     "output_type": "stream",
     "text": [
      "Epoch: 499 | Train loss: 0.2651: 100%|██████████| 500/500 [01:04<00:00,  7.70it/s]\n"
     ]
    }
   ],
   "source": [
    "net = Network()\n",
    "\n",
    "net.add(FCLayer(7, 10))\n",
    "net.add(ActivationLayer(Tanh()))\n",
    "net.add(FCLayer(10, 20))\n",
    "net.add(ActivationLayer(Tanh()))\n",
    "net.add(FCLayer(20, 50))\n",
    "net.add(ActivationLayer(Tanh()))\n",
    "net.add(FCLayer(50, 20))\n",
    "net.add(ActivationLayer(Tanh()))\n",
    "net.add(FCLayer(20, 10))\n",
    "net.add(ActivationLayer(Tanh()))\n",
    "net.add(FCLayer(10, 1))\n",
    "net.add(ActivationLayer(Tanh()))\n",
    "\n",
    "net.use(MSE())\n",
    "net.fit(X_train, y_train, epochs=500, learning_rate=0.001)"
   ]
  },
  {
   "cell_type": "code",
   "execution_count": 7,
   "metadata": {},
   "outputs": [
    {
     "data": {
      "text/plain": [
       "Text(0, 0.5, 'Loss')"
      ]
     },
     "execution_count": 7,
     "metadata": {},
     "output_type": "execute_result"
    },
    {
     "data": {
      "image/png": "[encoded data removed]",
      "text/plain": [
       "<Figure size 432x288 with 1 Axes>"
      ]
     },
     "metadata": {
      "needs_background": "light"
     },
     "output_type": "display_data"
    }
   ],
   "source": [
    "import matplotlib.pyplot as plt\n",
    "\n",
    "plt.plot(range(500), net.err_log)\n",
    "plt.grid(True)\n",
    "plt.title(\"Training Loss\")\n",
    "plt.xlabel(\"Epochs\")\n",
    "plt.ylabel(\"Loss\")"
   ]
  },
  {
   "cell_type": "code",
   "execution_count": 8,
   "metadata": {},
   "outputs": [
    {
     "name": "stdout",
     "output_type": "stream",
     "text": [
      "[[72 13]\n",
      " [12 46]]\n"
     ]
    },
    {
     "data": {
      "image/png": "[encoded data removed]",
      "text/plain": [
       "<Figure size 432x288 with 2 Axes>"
      ]
     },
     "metadata": {
      "needs_background": "light"
     },
     "output_type": "display_data"
    }
   ],
   "source": [
    "# How would this threshold change if you use sigmoid in the last layer?\n",
    "threshold = 0\n",
    "\n",
    "y_pred = net.predict(X_test)\n",
    "y_pred = [1 if p[0][0] >= threshold else 0 for p in y_pred]\n",
    "y_true = [1 if p[0][0] >= threshold else 0 for p in y_test]\n",
    "print(confusion_matrix(y_true, y_pred))\n",
    "ConfusionMatrixDisplay.from_predictions(y_true, y_pred);"
   ]
  },
  {
   "cell_type": "code",
   "execution_count": 9,
   "metadata": {},
   "outputs": [
    {
     "name": "stdout",
     "output_type": "stream",
     "text": [
      "              precision    recall  f1-score   support\n",
      "\n",
      "           0       0.85      0.86      0.85        84\n",
      "           1       0.79      0.78      0.79        59\n",
      "\n",
      "    accuracy                           0.83       143\n",
      "   macro avg       0.82      0.82      0.82       143\n",
      "weighted avg       0.82      0.83      0.82       143\n",
      "\n"
     ]
    }
   ],
   "source": [
    "print(classification_report(y_pred, y_true, zero_division=0))"
   ]
  },
  {
   "cell_type": "markdown",
   "metadata": {},
   "source": [
    "<h4 style ='background:crimson; border:0; color:white;'><center> First trial</center></h4>"
   ]
  },
  {
   "cell_type": "markdown",
   "metadata": {},
   "source": [
    "### Tanh Activation function & MAE loss function\n"
   ]
  },
  {
   "cell_type": "markdown",
   "metadata": {},
   "source": [
    "I've implemented a mean absolute error in losses.py"
   ]
  },
  {
   "cell_type": "code",
   "execution_count": 10,
   "metadata": {},
   "outputs": [],
   "source": [
    "dataset = dataset.dropna()"
   ]
  },
  {
   "cell_type": "code",
   "execution_count": 11,
   "metadata": {},
   "outputs": [
    {
     "name": "stderr",
     "output_type": "stream",
     "text": [
      "Epoch: 499 | Train loss: 0.3096: 100%|██████████| 500/500 [01:04<00:00,  7.74it/s]\n"
     ]
    }
   ],
   "source": [
    "ann0 = Network()\n",
    "\n",
    "ann0.add(FCLayer(7,10))\n",
    "ann0.add(ActivationLayer(Tanh()))\n",
    "ann0.add(FCLayer(10,20))\n",
    "ann0.add(ActivationLayer(Tanh()))\n",
    "ann0.add(FCLayer(20,50))\n",
    "ann0.add(ActivationLayer(Tanh()))\n",
    "ann0.add(FCLayer(50,20))\n",
    "ann0.add(ActivationLayer(Tanh()))\n",
    "ann0.add(FCLayer(20,10))\n",
    "ann0.add(ActivationLayer(Tanh()))\n",
    "ann0.add(FCLayer(10,1))\n",
    "ann0.add(ActivationLayer(Tanh()))\n",
    "\n",
    "ann0.use(MSE())\n",
    "ann0.fit(X_train, y_train, epochs=500, learning_rate=0.001)"
   ]
  },
  {
   "cell_type": "code",
   "execution_count": 12,
   "metadata": {},
   "outputs": [
    {
     "name": "stdout",
     "output_type": "stream",
     "text": [
      "              precision    recall  f1-score   support\n",
      "\n",
      "           0       0.86      0.85      0.85        85\n",
      "           1       0.78      0.79      0.79        58\n",
      "\n",
      "    accuracy                           0.83       143\n",
      "   macro avg       0.82      0.82      0.82       143\n",
      "weighted avg       0.83      0.83      0.83       143\n",
      "\n"
     ]
    }
   ],
   "source": [
    "from sklearn import metrics\n",
    "report = metrics.classification_report(y_true, y_pred)\n",
    "print(report)"
   ]
  },
  {
   "cell_type": "code",
   "execution_count": 13,
   "metadata": {},
   "outputs": [
    {
     "data": {
      "text/plain": [
       "0.17482517482517482"
      ]
     },
     "execution_count": 13,
     "metadata": {},
     "output_type": "execute_result"
    }
   ],
   "source": [
    "from sklearn.metrics import mean_absolute_error\n",
    "mean_absolute_error(y_true, y_pred)"
   ]
  },
  {
   "cell_type": "markdown",
   "metadata": {},
   "source": [
    "Since sigmoid gives range between 0 and 1"
   ]
  },
  {
   "cell_type": "markdown",
   "metadata": {},
   "source": [
    "<h4 style='background:crimson; border:0; color:white'><center>Trial 2</center></h4>"
   ]
  },
  {
   "cell_type": "markdown",
   "metadata": {},
   "source": [
    "Sigmoid"
   ]
  },
  {
   "cell_type": "code",
   "execution_count": 14,
   "metadata": {},
   "outputs": [],
   "source": [
    "X_train1 = X_train.reshape((569, 1, 7))\n",
    "y_train1 = y_train.reshape((569, 1, 1))\n",
    "\n",
    "#Sigmoid\n",
    "y_train1[y_train == 1] = 1\n",
    "y_train1[y_train == -1] = 0\n",
    "\n",
    "\n",
    "X_test1 = X_test.reshape((143, 1, 7))\n",
    "y_test1 = y_test.reshape((143, 1, 1))\n",
    "\n",
    "#Sigmoid\n",
    "y_test1[y_test == 1] = 1\n",
    "y_test1[y_test == -1] = 0"
   ]
  },
  {
   "cell_type": "code",
   "execution_count": 15,
   "metadata": {},
   "outputs": [
    {
     "name": "stderr",
     "output_type": "stream",
     "text": [
      "Epoch: 999 | Train loss: 0.2383: 100%|██████████| 1000/1000 [02:58<00:00,  5.59it/s]\n"
     ]
    }
   ],
   "source": [
    "ann1 = Network()\n",
    "\n",
    "ann1.add(FCLayer(7,10))\n",
    "ann1.add(ActivationLayer(Sigmoid()))\n",
    "ann1.add(FCLayer(10,20))\n",
    "ann1.add(ActivationLayer(Sigmoid()))\n",
    "ann1.add(FCLayer(20,50))\n",
    "ann1.add(ActivationLayer(Sigmoid()))\n",
    "ann1.add(FCLayer(50,20))\n",
    "ann1.add(ActivationLayer(Sigmoid()))\n",
    "ann1.add(FCLayer(20,10))\n",
    "ann1.add(ActivationLayer(Sigmoid()))\n",
    "ann1.add(FCLayer(10,1))\n",
    "ann1.add(ActivationLayer(Sigmoid()))\n",
    "\n",
    "ann1.use(MSE())\n",
    "ann1.fit(X_train, y_train, epochs=1000, learning_rate=0.001)"
   ]
  },
  {
   "cell_type": "code",
   "execution_count": 16,
   "metadata": {},
   "outputs": [
    {
     "name": "stdout",
     "output_type": "stream",
     "text": [
      "              precision    recall  f1-score   support\n",
      "\n",
      "           0       0.86      0.85      0.85        85\n",
      "           1       0.78      0.79      0.79        58\n",
      "\n",
      "    accuracy                           0.83       143\n",
      "   macro avg       0.82      0.82      0.82       143\n",
      "weighted avg       0.83      0.83      0.83       143\n",
      "\n"
     ]
    }
   ],
   "source": [
    "from sklearn import metrics\n",
    "report = metrics.classification_report(y_true, y_pred)\n",
    "print(report)"
   ]
  },
  {
   "cell_type": "markdown",
   "metadata": {},
   "source": [
    "<h4 style='background:crimson; border:0; color:white'><center>Trial 3</center></h4>"
   ]
  },
  {
   "cell_type": "markdown",
   "metadata": {},
   "source": [
    "Relu"
   ]
  },
  {
   "cell_type": "code",
   "execution_count": 17,
   "metadata": {},
   "outputs": [
    {
     "name": "stderr",
     "output_type": "stream",
     "text": [
      "Epoch: 499 | Train loss: 0.1484: 100%|██████████| 500/500 [01:32<00:00,  5.38it/s]\n"
     ]
    }
   ],
   "source": [
    "ann2 = Network()\n",
    "\n",
    "ann2.add(FCLayer(7,10))\n",
    "ann2.add(ActivationLayer(ReLU()))\n",
    "ann2.add(FCLayer(10,20))\n",
    "ann2.add(ActivationLayer(ReLU()))\n",
    "ann2.add(FCLayer(20,50))\n",
    "ann2.add(ActivationLayer(ReLU()))\n",
    "ann2.add(FCLayer(50,20))\n",
    "ann2.add(ActivationLayer(ReLU()))\n",
    "ann2.add(FCLayer(20,10))\n",
    "ann2.add(ActivationLayer(ReLU()))\n",
    "ann2.add(FCLayer(10,1))\n",
    "ann2.add(ActivationLayer(ReLU()))\n",
    "\n",
    "ann2.use(MSE())\n",
    "ann2.fit(X_train, y_train, epochs=500, learning_rate=0.001)"
   ]
  },
  {
   "cell_type": "code",
   "execution_count": 18,
   "metadata": {},
   "outputs": [
    {
     "name": "stdout",
     "output_type": "stream",
     "text": [
      "              precision    recall  f1-score   support\n",
      "\n",
      "           0       0.86      0.85      0.85        85\n",
      "           1       0.78      0.79      0.79        58\n",
      "\n",
      "    accuracy                           0.83       143\n",
      "   macro avg       0.82      0.82      0.82       143\n",
      "weighted avg       0.83      0.83      0.83       143\n",
      "\n"
     ]
    }
   ],
   "source": [
    "from sklearn import metrics\n",
    "report = metrics.classification_report(y_true, y_pred)\n",
    "print(report)"
   ]
  },
  {
   "cell_type": "markdown",
   "metadata": {},
   "source": [
    "<h4 style='background:crimson; border:0; color:white'><center>Trial 4</center></h4>"
   ]
  },
  {
   "cell_type": "markdown",
   "metadata": {},
   "source": [
    "Increasing Epochs"
   ]
  },
  {
   "cell_type": "code",
   "execution_count": 19,
   "metadata": {},
   "outputs": [
    {
     "name": "stderr",
     "output_type": "stream",
     "text": [
      "Epoch: 699 | Train loss: 0.2408: 100%|██████████| 700/700 [02:08<00:00,  5.43it/s]\n"
     ]
    }
   ],
   "source": [
    "from sklearn.metrics import mean_absolute_error\n",
    "\n",
    "ann3 = Network()\n",
    "\n",
    "ann3.add(FCLayer(7,10))\n",
    "ann3.add(ActivationLayer(Sigmoid()))\n",
    "ann3.add(FCLayer(10,20))\n",
    "ann3.add(ActivationLayer(Sigmoid()))\n",
    "ann3.add(FCLayer(20,50))\n",
    "ann3.add(ActivationLayer(Sigmoid()))\n",
    "ann3.add(FCLayer(50,20))\n",
    "ann3.add(ActivationLayer(Sigmoid()))\n",
    "ann3.add(FCLayer(20,10))\n",
    "ann3.add(ActivationLayer(Sigmoid()))\n",
    "ann3.add(FCLayer(10,1))\n",
    "ann3.add(ActivationLayer(Sigmoid()))\n",
    "\n",
    "ann3.use(MSE())\n",
    "ann3.fit(X_train, y_train, epochs=700, learning_rate=0.001)"
   ]
  },
  {
   "cell_type": "code",
   "execution_count": 20,
   "metadata": {},
   "outputs": [
    {
     "name": "stdout",
     "output_type": "stream",
     "text": [
      "              precision    recall  f1-score   support\n",
      "\n",
      "           0       0.86      0.85      0.85        85\n",
      "           1       0.78      0.79      0.79        58\n",
      "\n",
      "    accuracy                           0.83       143\n",
      "   macro avg       0.82      0.82      0.82       143\n",
      "weighted avg       0.83      0.83      0.83       143\n",
      "\n"
     ]
    }
   ],
   "source": [
    "from sklearn import metrics\n",
    "report = metrics.classification_report(y_true, y_pred)\n",
    "print(report)"
   ]
  },
  {
   "cell_type": "markdown",
   "metadata": {},
   "source": [
    "<h4 style='background:crimson; border:0; color:white'><center>Trial 5</center></h4>"
   ]
  },
  {
   "cell_type": "markdown",
   "metadata": {},
   "source": [
    "Increasing layer and Epochs"
   ]
  },
  {
   "cell_type": "code",
   "execution_count": 21,
   "metadata": {},
   "outputs": [
    {
     "name": "stderr",
     "output_type": "stream",
     "text": [
      "Epoch: 499 | Train loss: 0.09447: 100%|██████████| 500/500 [01:00<00:00,  8.21it/s]\n"
     ]
    }
   ],
   "source": [
    "ann4 = Network()\n",
    "\n",
    "ann4.add(FCLayer(7,10))\n",
    "ann4.add(ActivationLayer(Tanh()))\n",
    "ann4.add(FCLayer(10,20))\n",
    "ann4.add(ActivationLayer(Tanh()))\n",
    "ann4.add(FCLayer(20,50))\n",
    "ann4.add(ActivationLayer(Tanh()))\n",
    "ann4.add(FCLayer(50,20))\n",
    "ann4.add(ActivationLayer(Tanh()))\n",
    "ann4.add(FCLayer(20,10))\n",
    "ann4.add(ActivationLayer(Tanh()))\n",
    "ann4.add(FCLayer(10,1))\n",
    "ann4.add(ActivationLayer(Tanh()))\n",
    "\n",
    "ann4.use(MSE())\n",
    "ann4.fit(X_train, y_train, epochs=500, learning_rate=0.001)"
   ]
  },
  {
   "cell_type": "code",
   "execution_count": 22,
   "metadata": {},
   "outputs": [
    {
     "name": "stdout",
     "output_type": "stream",
     "text": [
      "              precision    recall  f1-score   support\n",
      "\n",
      "           0       0.86      0.85      0.85        85\n",
      "           1       0.78      0.79      0.79        58\n",
      "\n",
      "    accuracy                           0.83       143\n",
      "   macro avg       0.82      0.82      0.82       143\n",
      "weighted avg       0.83      0.83      0.83       143\n",
      "\n"
     ]
    }
   ],
   "source": [
    "from sklearn import metrics\n",
    "report = metrics.classification_report(y_true, y_pred)\n",
    "print(report)"
   ]
  },
  {
   "cell_type": "code",
   "execution_count": 23,
   "metadata": {},
   "outputs": [],
   "source": [
    "# See how they are implemented in sklearn\n",
    "# https://scikit-learn.org/stable/modules/model_ev4aluation.html#classification-metrics\n",
    "\n",
    "def my_accuracy(y_true, y_pred):\n",
    "    TP = 0\n",
    "    FP = 0\n",
    "    TN = 0\n",
    "    FN = 0\n",
    "    for y,y_pred in zip(y_true,y_pred):\n",
    "        if y==1 and y_pred==1:\n",
    "            TP += 1\n",
    "        elif y==0 and y_pred==0:\n",
    "            TN += 1\n",
    "        elif y==1 and y_pred==0:\n",
    "            FN += 1\n",
    "        elif y==0 and y_pred==1:\n",
    "            FP += 1\n",
    "    return (TP+TN)/(TP+TN+FP+FN)\n",
    "\n",
    "def my_precision(y_true, y_pred):\n",
    "    #setting initial value to zero\n",
    "    TP = 0\n",
    "    FP = 0\n",
    "    for y,y_pred in zip(y_true,y_pred):\n",
    "        if y==1 and y_pred==1:\n",
    "            TP += 1\n",
    "        elif y == 0 and y_pred==1:\n",
    "            FP +=1       \n",
    "            \n",
    "    return TP / (TP + FP)\n",
    "\n",
    "def my_recall(y_true, y_pred):\n",
    "    #Initial value to zero to check if TP and FN\n",
    "    TP = 0\n",
    "    FN = 0\n",
    "    for y,y_pred in zip(y_true,y_pred):\n",
    "        if y==1 and y_pred==1:\n",
    "            TP += 1\n",
    "        elif y == 1 and y_pred==0:\n",
    "            FN +=1    \n",
    "            \n",
    "    return TP / (TP + FN)\n",
    "\n",
    "def my_confusion_matrix(y_true, y_pred):\n",
    "    TP = 0 #True positive\n",
    "    FP = 0 #False positive\n",
    "    TN = 0 #True negative\n",
    "    FN = 0 #False negative\n",
    "    for y,y_pred in zip(y_true,y_pred):\n",
    "        if y==1 and y_pred==1:\n",
    "            TP += 1\n",
    "        elif y==0 and y_pred==0:\n",
    "            TN += 1\n",
    "        elif y==1 and y_pred==0:\n",
    "            FN += 1\n",
    "        elif y==0 and y_pred==1:\n",
    "            FP += 1\n",
    "            \n",
    "    return np.array([[TN,FP],\n",
    "                    [FN,TP]])\n",
    "\n",
    "\n",
    "\n",
    "# See what average=\"binary\" means in sklearn documentation\n",
    "assert my_accuracy(y_true, y_pred) == accuracy_score(y_true, y_pred)\n",
    "assert my_recall(y_true, y_pred) == recall_score(y_true, y_pred, average='binary')\n",
    "assert my_precision(y_true, y_pred) == precision_score(y_true, y_pred, average='binary')"
   ]
  },
  {
   "cell_type": "code",
   "execution_count": 24,
   "metadata": {},
   "outputs": [
    {
     "name": "stdout",
     "output_type": "stream",
     "text": [
      "\n",
      "Sklearn Precision =  0.8251748251748252\n",
      "Sklearn Recall =  0.8251748251748252\n",
      "Sklearn Accuracy score =  0.8251748251748252\n"
     ]
    }
   ],
   "source": [
    "#Sklearn precision\n",
    "sklearn_precision = precision_score(y_true,y_pred,average='micro')\n",
    "print(\"\\nSklearn Precision = \",sklearn_precision)\n",
    "\n",
    "# Sklearn Recall\n",
    "sklearn_recall = recall_score(y_true,y_pred,average='micro')\n",
    "print(\"Sklearn Recall = \",sklearn_recall)\n",
    "\n",
    "#Sklearn accuracy\n",
    "sklearn_accuracy = accuracy_score(y_true,y_pred)\n",
    "print(\"Sklearn Accuracy score = \",sklearn_accuracy)"
   ]
  },
  {
   "cell_type": "code",
   "execution_count": 25,
   "metadata": {},
   "outputs": [
    {
     "name": "stdout",
     "output_type": "stream",
     "text": [
      "\n",
      "Custom Precision =  0.7796610169491526\n",
      "Custom Recall =  0.7931034482758621\n",
      "Custom Accuracy score =  0.8251748251748252\n"
     ]
    }
   ],
   "source": [
    "print(\"\\nCustom Precision = \",my_precision(y_true,y_pred))\n",
    "\n",
    "print(\"Custom Recall = \",my_recall(y_true,y_pred))\n",
    "\n",
    "print(\"Custom Accuracy score = \",my_accuracy(y_true,y_pred))"
   ]
  },
  {
   "cell_type": "code",
   "execution_count": 26,
   "metadata": {},
   "outputs": [
    {
     "name": "stdout",
     "output_type": "stream",
     "text": [
      "Sklearn Confusion Matrix:\n",
      "[[72 13]\n",
      " [12 46]]\n"
     ]
    }
   ],
   "source": [
    "#Sklearn confusion matrix\n",
    "print(\"Sklearn Confusion Matrix:\",confusion_matrix(y_true,y_pred),sep=\"\\n\")"
   ]
  },
  {
   "cell_type": "code",
   "execution_count": 27,
   "metadata": {},
   "outputs": [
    {
     "name": "stdout",
     "output_type": "stream",
     "text": [
      "Custom confusion matrix =  [[72 13]\n",
      " [12 46]]\n"
     ]
    }
   ],
   "source": [
    "print(\"Custom confusion matrix = \",my_confusion_matrix(y_true,y_pred))"
   ]
  }
 ],
 "metadata": {
  "kernelspec": {
   "display_name": "Python 3.9.13 64-bit (microsoft store)",
   "language": "python",
   "name": "python3"
  },
  "language_info": {
   "codemirror_mode": {
    "name": "ipython",
    "version": 3
   },
   "file_extension": ".py",
   "mimetype": "text/x-python",
   "name": "python",
   "nbconvert_exporter": "python",
   "pygments_lexer": "ipython3",
   "version": "3.9.13"
  },
  "orig_nbformat": 4,
  "vscode": {
   "interpreter": {
    "hash": "a9e9005fecb0c36c277496b0a74fc0c97c006641a9a6ffa64ec471fcb79e1bda"
   }
  }
 },
 "nbformat": 4,
 "nbformat_minor": 2
}
